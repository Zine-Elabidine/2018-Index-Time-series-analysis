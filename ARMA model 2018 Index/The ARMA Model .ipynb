{
 "cells": [
  {
   "cell_type": "markdown",
   "metadata": {},
   "source": [
    "## Importing the relevant packages"
   ]
  },
  {
   "cell_type": "code",
   "execution_count": 1,
   "metadata": {},
   "outputs": [],
   "source": [
    "import pandas as pd\n",
    "import numpy as np\n",
    "import matplotlib.pyplot as plt\n",
    "import statsmodels.graphics.tsaplots as sgt\n",
    "import statsmodels.tsa.stattools as sts\n",
    "from statsmodels.tsa.arima.model import ARIMA\n",
    "from scipy.stats.distributions import chi2 \n",
    "import seaborn as sns\n",
    "sns.set()"
   ]
  },
  {
   "cell_type": "markdown",
   "metadata": {},
   "source": [
    " "
   ]
  },
  {
   "cell_type": "markdown",
   "metadata": {},
   "source": [
    "## Importing the Data and Pre-processing "
   ]
  },
  {
   "cell_type": "code",
   "execution_count": 2,
   "metadata": {},
   "outputs": [],
   "source": [
    "raw_csv_data = pd.read_csv(\"Index2018.csv\") \n",
    "df_comp=raw_csv_data.copy()\n",
    "df_comp.date = pd.to_datetime(df_comp.date, dayfirst = True)\n",
    "df_comp.set_index(\"date\", inplace=True)\n",
    "df_comp=df_comp.asfreq('b')\n",
    "df_comp=df_comp.fillna(method='ffill')"
   ]
  },
  {
   "cell_type": "code",
   "execution_count": 3,
   "metadata": {},
   "outputs": [],
   "source": [
    "df_comp['market_value']=df_comp.ftse"
   ]
  },
  {
   "cell_type": "code",
   "execution_count": 4,
   "metadata": {},
   "outputs": [],
   "source": [
    "del df_comp['spx']\n",
    "del df_comp['dax']\n",
    "del df_comp['ftse']\n",
    "del df_comp['nikkei']\n",
    "size = int(len(df_comp)*0.8)\n",
    "df, df_test = df_comp.iloc[:size], df_comp.iloc[size:]"
   ]
  },
  {
   "cell_type": "code",
   "execution_count": 5,
   "metadata": {},
   "outputs": [],
   "source": [
    "import warnings\n",
    "warnings.filterwarnings(\"ignore\")"
   ]
  },
  {
   "cell_type": "markdown",
   "metadata": {},
   "source": [
    " "
   ]
  },
  {
   "cell_type": "markdown",
   "metadata": {},
   "source": [
    "## The LLR Test"
   ]
  },
  {
   "cell_type": "code",
   "execution_count": 6,
   "metadata": {},
   "outputs": [],
   "source": [
    "def LLR_test(mod_1, mod_2, DF = 1):\n",
    "    L1 = mod_1.fit().llf\n",
    "    L2 = mod_2.fit().llf\n",
    "    LR = (2*(L2-L1))    \n",
    "    p = chi2.sf(LR, DF).round(3)\n",
    "    return p"
   ]
  },
  {
   "cell_type": "markdown",
   "metadata": {},
   "source": [
    "## Creating Returns"
   ]
  },
  {
   "cell_type": "code",
   "execution_count": 7,
   "metadata": {
    "scrolled": true
   },
   "outputs": [],
   "source": [
    "df['returns'] = df.market_value.pct_change(1)*100"
   ]
  },
  {
   "cell_type": "markdown",
   "metadata": {},
   "source": [
    "## ARMA(1,1)"
   ]
  },
  {
   "cell_type": "code",
   "execution_count": 8,
   "metadata": {},
   "outputs": [
    {
     "data": {
      "text/html": [
       "<table class=\"simpletable\">\n",
       "<caption>SARIMAX Results</caption>\n",
       "<tr>\n",
       "  <th>Dep. Variable:</th>        <td>returns</td>     <th>  No. Observations:  </th>   <td>5020</td>   \n",
       "</tr>\n",
       "<tr>\n",
       "  <th>Model:</th>            <td>ARIMA(1, 0, 1)</td>  <th>  Log Likelihood     </th> <td>-7916.500</td>\n",
       "</tr>\n",
       "<tr>\n",
       "  <th>Date:</th>            <td>Wed, 29 Mar 2023</td> <th>  AIC                </th> <td>15841.000</td>\n",
       "</tr>\n",
       "<tr>\n",
       "  <th>Time:</th>                <td>14:22:04</td>     <th>  BIC                </th> <td>15867.085</td>\n",
       "</tr>\n",
       "<tr>\n",
       "  <th>Sample:</th>             <td>01-10-1994</td>    <th>  HQIC               </th> <td>15850.140</td>\n",
       "</tr>\n",
       "<tr>\n",
       "  <th></th>                   <td>- 04-05-2013</td>   <th>                     </th>     <td> </td>    \n",
       "</tr>\n",
       "<tr>\n",
       "  <th>Covariance Type:</th>        <td>opg</td>       <th>                     </th>     <td> </td>    \n",
       "</tr>\n",
       "</table>\n",
       "<table class=\"simpletable\">\n",
       "<tr>\n",
       "     <td></td>       <th>coef</th>     <th>std err</th>      <th>z</th>      <th>P>|z|</th>  <th>[0.025</th>    <th>0.975]</th>  \n",
       "</tr>\n",
       "<tr>\n",
       "  <th>const</th>  <td>    0.0189</td> <td>    0.015</td> <td>    1.290</td> <td> 0.197</td> <td>   -0.010</td> <td>    0.048</td>\n",
       "</tr>\n",
       "<tr>\n",
       "  <th>ar.L1</th>  <td>    0.7650</td> <td>    0.045</td> <td>   16.995</td> <td> 0.000</td> <td>    0.677</td> <td>    0.853</td>\n",
       "</tr>\n",
       "<tr>\n",
       "  <th>ma.L1</th>  <td>   -0.8142</td> <td>    0.040</td> <td>  -20.187</td> <td> 0.000</td> <td>   -0.893</td> <td>   -0.735</td>\n",
       "</tr>\n",
       "<tr>\n",
       "  <th>sigma2</th> <td>    1.3718</td> <td>    0.014</td> <td>   98.110</td> <td> 0.000</td> <td>    1.344</td> <td>    1.399</td>\n",
       "</tr>\n",
       "</table>\n",
       "<table class=\"simpletable\">\n",
       "<tr>\n",
       "  <th>Ljung-Box (L1) (Q):</th>     <td>2.06</td> <th>  Jarque-Bera (JB):  </th> <td>7488.92</td>\n",
       "</tr>\n",
       "<tr>\n",
       "  <th>Prob(Q):</th>                <td>0.15</td> <th>  Prob(JB):          </th>  <td>0.00</td>  \n",
       "</tr>\n",
       "<tr>\n",
       "  <th>Heteroskedasticity (H):</th> <td>2.03</td> <th>  Skew:              </th>  <td>-0.18</td> \n",
       "</tr>\n",
       "<tr>\n",
       "  <th>Prob(H) (two-sided):</th>    <td>0.00</td> <th>  Kurtosis:          </th>  <td>8.97</td>  \n",
       "</tr>\n",
       "</table><br/><br/>Warnings:<br/>[1] Covariance matrix calculated using the outer product of gradients (complex-step)."
      ],
      "text/plain": [
       "<class 'statsmodels.iolib.summary.Summary'>\n",
       "\"\"\"\n",
       "                               SARIMAX Results                                \n",
       "==============================================================================\n",
       "Dep. Variable:                returns   No. Observations:                 5020\n",
       "Model:                 ARIMA(1, 0, 1)   Log Likelihood               -7916.500\n",
       "Date:                Wed, 29 Mar 2023   AIC                          15841.000\n",
       "Time:                        14:22:04   BIC                          15867.085\n",
       "Sample:                    01-10-1994   HQIC                         15850.140\n",
       "                         - 04-05-2013                                         \n",
       "Covariance Type:                  opg                                         \n",
       "==============================================================================\n",
       "                 coef    std err          z      P>|z|      [0.025      0.975]\n",
       "------------------------------------------------------------------------------\n",
       "const          0.0189      0.015      1.290      0.197      -0.010       0.048\n",
       "ar.L1          0.7650      0.045     16.995      0.000       0.677       0.853\n",
       "ma.L1         -0.8142      0.040    -20.187      0.000      -0.893      -0.735\n",
       "sigma2         1.3718      0.014     98.110      0.000       1.344       1.399\n",
       "===================================================================================\n",
       "Ljung-Box (L1) (Q):                   2.06   Jarque-Bera (JB):              7488.92\n",
       "Prob(Q):                              0.15   Prob(JB):                         0.00\n",
       "Heteroskedasticity (H):               2.03   Skew:                            -0.18\n",
       "Prob(H) (two-sided):                  0.00   Kurtosis:                         8.97\n",
       "===================================================================================\n",
       "\n",
       "Warnings:\n",
       "[1] Covariance matrix calculated using the outer product of gradients (complex-step).\n",
       "\"\"\""
      ]
     },
     "execution_count": 8,
     "metadata": {},
     "output_type": "execute_result"
    }
   ],
   "source": [
    "ret_arma11=ARIMA(df.returns[1:],order=(1,0,1))\n",
    "result11=ret_arma11.fit()\n",
    "result11.summary()"
   ]
  },
  {
   "cell_type": "markdown",
   "metadata": {
    "scrolled": true
   },
   "source": [
    "we see that the coefficent of al.L1 is positive, this indicates a positive tendency betweeen past and present values, returns move in trends of consecutive positive or consecutive negative values,the negative ma.L1 coefficient suggest that we should be moving away from the past period t-1 values"
   ]
  },
  {
   "cell_type": "code",
   "execution_count": null,
   "metadata": {},
   "outputs": [],
   "source": []
  },
  {
   "cell_type": "markdown",
   "metadata": {},
   "source": [
    "## Higher-Lag ARMA Models"
   ]
  },
  {
   "cell_type": "code",
   "execution_count": 9,
   "metadata": {},
   "outputs": [],
   "source": [
    "model1_ret_ar1=ARIMA(df.returns[1:],order=(1,0,0))\n",
    "model1_ret_ma1=ARIMA(df.returns[1:],order=(0,0,1))"
   ]
  },
  {
   "cell_type": "code",
   "execution_count": 10,
   "metadata": {},
   "outputs": [
    {
     "name": "stdout",
     "output_type": "stream",
     "text": [
      "\n",
      " ARMA vs AR :  0.0\n",
      "\n",
      " ARMA vs MA :  0.0\n"
     ]
    }
   ],
   "source": [
    "print(\"\\n ARMA vs AR : \",LLR_test(model1_ret_ar1,ret_arma11))\n",
    "print(\"\\n ARMA vs MA : \",LLR_test(model1_ret_ma1,ret_arma11))"
   ]
  },
  {
   "cell_type": "markdown",
   "metadata": {},
   "source": [
    "The p values for both tests indicates that ARMA is the better estimator"
   ]
  },
  {
   "cell_type": "markdown",
   "metadata": {},
   "source": [
    "The MA and AR models complets each other, so based on past results we can say that the optimal ARMA model should have no more than 6 AR components and 8 MA components, but that would cause a redundancy, so we can start with ARMA(3,3):"
   ]
  },
  {
   "cell_type": "code",
   "execution_count": 11,
   "metadata": {},
   "outputs": [
    {
     "data": {
      "text/html": [
       "<table class=\"simpletable\">\n",
       "<caption>SARIMAX Results</caption>\n",
       "<tr>\n",
       "  <th>Dep. Variable:</th>        <td>returns</td>     <th>  No. Observations:  </th>   <td>5020</td>   \n",
       "</tr>\n",
       "<tr>\n",
       "  <th>Model:</th>            <td>ARIMA(3, 0, 3)</td>  <th>  Log Likelihood     </th> <td>-7893.515</td>\n",
       "</tr>\n",
       "<tr>\n",
       "  <th>Date:</th>            <td>Wed, 29 Mar 2023</td> <th>  AIC                </th> <td>15803.030</td>\n",
       "</tr>\n",
       "<tr>\n",
       "  <th>Time:</th>                <td>14:22:29</td>     <th>  BIC                </th> <td>15855.200</td>\n",
       "</tr>\n",
       "<tr>\n",
       "  <th>Sample:</th>             <td>01-10-1994</td>    <th>  HQIC               </th> <td>15821.311</td>\n",
       "</tr>\n",
       "<tr>\n",
       "  <th></th>                   <td>- 04-05-2013</td>   <th>                     </th>     <td> </td>    \n",
       "</tr>\n",
       "<tr>\n",
       "  <th>Covariance Type:</th>        <td>opg</td>       <th>                     </th>     <td> </td>    \n",
       "</tr>\n",
       "</table>\n",
       "<table class=\"simpletable\">\n",
       "<tr>\n",
       "     <td></td>       <th>coef</th>     <th>std err</th>      <th>z</th>      <th>P>|z|</th>  <th>[0.025</th>    <th>0.975]</th>  \n",
       "</tr>\n",
       "<tr>\n",
       "  <th>const</th>  <td>    0.0189</td> <td>    0.015</td> <td>    1.281</td> <td> 0.200</td> <td>   -0.010</td> <td>    0.048</td>\n",
       "</tr>\n",
       "<tr>\n",
       "  <th>ar.L1</th>  <td>   -0.1880</td> <td>    0.068</td> <td>   -2.780</td> <td> 0.005</td> <td>   -0.321</td> <td>   -0.055</td>\n",
       "</tr>\n",
       "<tr>\n",
       "  <th>ar.L2</th>  <td>   -0.2926</td> <td>    0.054</td> <td>   -5.380</td> <td> 0.000</td> <td>   -0.399</td> <td>   -0.186</td>\n",
       "</tr>\n",
       "<tr>\n",
       "  <th>ar.L3</th>  <td>    0.4469</td> <td>    0.062</td> <td>    7.252</td> <td> 0.000</td> <td>    0.326</td> <td>    0.568</td>\n",
       "</tr>\n",
       "<tr>\n",
       "  <th>ma.L1</th>  <td>    0.1690</td> <td>    0.063</td> <td>    2.686</td> <td> 0.007</td> <td>    0.046</td> <td>    0.292</td>\n",
       "</tr>\n",
       "<tr>\n",
       "  <th>ma.L2</th>  <td>    0.2260</td> <td>    0.052</td> <td>    4.328</td> <td> 0.000</td> <td>    0.124</td> <td>    0.328</td>\n",
       "</tr>\n",
       "<tr>\n",
       "  <th>ma.L3</th>  <td>   -0.5442</td> <td>    0.056</td> <td>   -9.632</td> <td> 0.000</td> <td>   -0.655</td> <td>   -0.433</td>\n",
       "</tr>\n",
       "<tr>\n",
       "  <th>sigma2</th> <td>    1.3591</td> <td>    0.015</td> <td>   92.543</td> <td> 0.000</td> <td>    1.330</td> <td>    1.388</td>\n",
       "</tr>\n",
       "</table>\n",
       "<table class=\"simpletable\">\n",
       "<tr>\n",
       "  <th>Ljung-Box (L1) (Q):</th>     <td>0.18</td> <th>  Jarque-Bera (JB):  </th> <td>6862.43</td>\n",
       "</tr>\n",
       "<tr>\n",
       "  <th>Prob(Q):</th>                <td>0.67</td> <th>  Prob(JB):          </th>  <td>0.00</td>  \n",
       "</tr>\n",
       "<tr>\n",
       "  <th>Heteroskedasticity (H):</th> <td>2.00</td> <th>  Skew:              </th>  <td>-0.17</td> \n",
       "</tr>\n",
       "<tr>\n",
       "  <th>Prob(H) (two-sided):</th>    <td>0.00</td> <th>  Kurtosis:          </th>  <td>8.72</td>  \n",
       "</tr>\n",
       "</table><br/><br/>Warnings:<br/>[1] Covariance matrix calculated using the outer product of gradients (complex-step)."
      ],
      "text/plain": [
       "<class 'statsmodels.iolib.summary.Summary'>\n",
       "\"\"\"\n",
       "                               SARIMAX Results                                \n",
       "==============================================================================\n",
       "Dep. Variable:                returns   No. Observations:                 5020\n",
       "Model:                 ARIMA(3, 0, 3)   Log Likelihood               -7893.515\n",
       "Date:                Wed, 29 Mar 2023   AIC                          15803.030\n",
       "Time:                        14:22:29   BIC                          15855.200\n",
       "Sample:                    01-10-1994   HQIC                         15821.311\n",
       "                         - 04-05-2013                                         \n",
       "Covariance Type:                  opg                                         \n",
       "==============================================================================\n",
       "                 coef    std err          z      P>|z|      [0.025      0.975]\n",
       "------------------------------------------------------------------------------\n",
       "const          0.0189      0.015      1.281      0.200      -0.010       0.048\n",
       "ar.L1         -0.1880      0.068     -2.780      0.005      -0.321      -0.055\n",
       "ar.L2         -0.2926      0.054     -5.380      0.000      -0.399      -0.186\n",
       "ar.L3          0.4469      0.062      7.252      0.000       0.326       0.568\n",
       "ma.L1          0.1690      0.063      2.686      0.007       0.046       0.292\n",
       "ma.L2          0.2260      0.052      4.328      0.000       0.124       0.328\n",
       "ma.L3         -0.5442      0.056     -9.632      0.000      -0.655      -0.433\n",
       "sigma2         1.3591      0.015     92.543      0.000       1.330       1.388\n",
       "===================================================================================\n",
       "Ljung-Box (L1) (Q):                   0.18   Jarque-Bera (JB):              6862.43\n",
       "Prob(Q):                              0.67   Prob(JB):                         0.00\n",
       "Heteroskedasticity (H):               2.00   Skew:                            -0.17\n",
       "Prob(H) (two-sided):                  0.00   Kurtosis:                         8.72\n",
       "===================================================================================\n",
       "\n",
       "Warnings:\n",
       "[1] Covariance matrix calculated using the outer product of gradients (complex-step).\n",
       "\"\"\""
      ]
     },
     "execution_count": 11,
     "metadata": {},
     "output_type": "execute_result"
    }
   ],
   "source": [
    "ret_arma33=ARIMA(df.returns[1:],order=(3,0,3))\n",
    "result33=ret_arma33.fit()\n",
    "result33.summary()"
   ]
  },
  {
   "cell_type": "code",
   "execution_count": 12,
   "metadata": {},
   "outputs": [
    {
     "name": "stdout",
     "output_type": "stream",
     "text": [
      "\n",
      " ARMA(1,1) vs MA(3,3) :  0.0\n"
     ]
    }
   ],
   "source": [
    "print(\"\\n ARMA(1,1) vs MA(3,3) : \",LLR_test(ret_arma11,ret_arma33,DF=4))"
   ]
  },
  {
   "cell_type": "markdown",
   "metadata": {},
   "source": [
    "Small p-value, thus the ARMA(3,3) is indeed better.This also means that the optimal model is where the orders are between 1 and 3 for both AR and MA components, thus we will go for ARMA order 5:\n"
   ]
  },
  {
   "cell_type": "code",
   "execution_count": 13,
   "metadata": {},
   "outputs": [
    {
     "data": {
      "text/html": [
       "<table class=\"simpletable\">\n",
       "<caption>SARIMAX Results</caption>\n",
       "<tr>\n",
       "  <th>Dep. Variable:</th>        <td>returns</td>     <th>  No. Observations:  </th>   <td>5020</td>   \n",
       "</tr>\n",
       "<tr>\n",
       "  <th>Model:</th>            <td>ARIMA(3, 0, 2)</td>  <th>  Log Likelihood     </th> <td>-7895.747</td>\n",
       "</tr>\n",
       "<tr>\n",
       "  <th>Date:</th>            <td>Wed, 29 Mar 2023</td> <th>  AIC                </th> <td>15805.495</td>\n",
       "</tr>\n",
       "<tr>\n",
       "  <th>Time:</th>                <td>15:04:57</td>     <th>  BIC                </th> <td>15851.143</td>\n",
       "</tr>\n",
       "<tr>\n",
       "  <th>Sample:</th>             <td>01-10-1994</td>    <th>  HQIC               </th> <td>15821.491</td>\n",
       "</tr>\n",
       "<tr>\n",
       "  <th></th>                   <td>- 04-05-2013</td>   <th>                     </th>     <td> </td>    \n",
       "</tr>\n",
       "<tr>\n",
       "  <th>Covariance Type:</th>        <td>opg</td>       <th>                     </th>     <td> </td>    \n",
       "</tr>\n",
       "</table>\n",
       "<table class=\"simpletable\">\n",
       "<tr>\n",
       "     <td></td>       <th>coef</th>     <th>std err</th>      <th>z</th>      <th>P>|z|</th>  <th>[0.025</th>    <th>0.975]</th>  \n",
       "</tr>\n",
       "<tr>\n",
       "  <th>const</th>  <td>    0.0188</td> <td>    0.016</td> <td>    1.211</td> <td> 0.226</td> <td>   -0.012</td> <td>    0.049</td>\n",
       "</tr>\n",
       "<tr>\n",
       "  <th>ar.L1</th>  <td>   -0.6778</td> <td>    0.055</td> <td>  -12.298</td> <td> 0.000</td> <td>   -0.786</td> <td>   -0.570</td>\n",
       "</tr>\n",
       "<tr>\n",
       "  <th>ar.L2</th>  <td>   -0.5082</td> <td>    0.063</td> <td>   -8.035</td> <td> 0.000</td> <td>   -0.632</td> <td>   -0.384</td>\n",
       "</tr>\n",
       "<tr>\n",
       "  <th>ar.L3</th>  <td>   -0.1141</td> <td>    0.009</td> <td>  -12.755</td> <td> 0.000</td> <td>   -0.132</td> <td>   -0.097</td>\n",
       "</tr>\n",
       "<tr>\n",
       "  <th>ma.L1</th>  <td>    0.6561</td> <td>    0.056</td> <td>   11.747</td> <td> 0.000</td> <td>    0.547</td> <td>    0.766</td>\n",
       "</tr>\n",
       "<tr>\n",
       "  <th>ma.L2</th>  <td>    0.4468</td> <td>    0.064</td> <td>    7.031</td> <td> 0.000</td> <td>    0.322</td> <td>    0.571</td>\n",
       "</tr>\n",
       "<tr>\n",
       "  <th>sigma2</th> <td>    1.3604</td> <td>    0.015</td> <td>   91.796</td> <td> 0.000</td> <td>    1.331</td> <td>    1.389</td>\n",
       "</tr>\n",
       "</table>\n",
       "<table class=\"simpletable\">\n",
       "<tr>\n",
       "  <th>Ljung-Box (L1) (Q):</th>     <td>0.00</td> <th>  Jarque-Bera (JB):  </th> <td>6513.61</td>\n",
       "</tr>\n",
       "<tr>\n",
       "  <th>Prob(Q):</th>                <td>1.00</td> <th>  Prob(JB):          </th>  <td>0.00</td>  \n",
       "</tr>\n",
       "<tr>\n",
       "  <th>Heteroskedasticity (H):</th> <td>1.99</td> <th>  Skew:              </th>  <td>-0.11</td> \n",
       "</tr>\n",
       "<tr>\n",
       "  <th>Prob(H) (two-sided):</th>    <td>0.00</td> <th>  Kurtosis:          </th>  <td>8.58</td>  \n",
       "</tr>\n",
       "</table><br/><br/>Warnings:<br/>[1] Covariance matrix calculated using the outer product of gradients (complex-step)."
      ],
      "text/plain": [
       "<class 'statsmodels.iolib.summary.Summary'>\n",
       "\"\"\"\n",
       "                               SARIMAX Results                                \n",
       "==============================================================================\n",
       "Dep. Variable:                returns   No. Observations:                 5020\n",
       "Model:                 ARIMA(3, 0, 2)   Log Likelihood               -7895.747\n",
       "Date:                Wed, 29 Mar 2023   AIC                          15805.495\n",
       "Time:                        15:04:57   BIC                          15851.143\n",
       "Sample:                    01-10-1994   HQIC                         15821.491\n",
       "                         - 04-05-2013                                         \n",
       "Covariance Type:                  opg                                         \n",
       "==============================================================================\n",
       "                 coef    std err          z      P>|z|      [0.025      0.975]\n",
       "------------------------------------------------------------------------------\n",
       "const          0.0188      0.016      1.211      0.226      -0.012       0.049\n",
       "ar.L1         -0.6778      0.055    -12.298      0.000      -0.786      -0.570\n",
       "ar.L2         -0.5082      0.063     -8.035      0.000      -0.632      -0.384\n",
       "ar.L3         -0.1141      0.009    -12.755      0.000      -0.132      -0.097\n",
       "ma.L1          0.6561      0.056     11.747      0.000       0.547       0.766\n",
       "ma.L2          0.4468      0.064      7.031      0.000       0.322       0.571\n",
       "sigma2         1.3604      0.015     91.796      0.000       1.331       1.389\n",
       "===================================================================================\n",
       "Ljung-Box (L1) (Q):                   0.00   Jarque-Bera (JB):              6513.61\n",
       "Prob(Q):                              1.00   Prob(JB):                         0.00\n",
       "Heteroskedasticity (H):               1.99   Skew:                            -0.11\n",
       "Prob(H) (two-sided):                  0.00   Kurtosis:                         8.58\n",
       "===================================================================================\n",
       "\n",
       "Warnings:\n",
       "[1] Covariance matrix calculated using the outer product of gradients (complex-step).\n",
       "\"\"\""
      ]
     },
     "execution_count": 13,
     "metadata": {},
     "output_type": "execute_result"
    }
   ],
   "source": [
    "ret_arma32=ARIMA(df.returns[1:],order=(3,0,2))\n",
    "result32=ret_arma32.fit()\n",
    "result32.summary()"
   ]
  },
  {
   "cell_type": "code",
   "execution_count": 14,
   "metadata": {},
   "outputs": [
    {
     "data": {
      "text/html": [
       "<table class=\"simpletable\">\n",
       "<caption>SARIMAX Results</caption>\n",
       "<tr>\n",
       "  <th>Dep. Variable:</th>        <td>returns</td>     <th>  No. Observations:  </th>   <td>5020</td>   \n",
       "</tr>\n",
       "<tr>\n",
       "  <th>Model:</th>            <td>ARIMA(2, 0, 3)</td>  <th>  Log Likelihood     </th> <td>-7895.587</td>\n",
       "</tr>\n",
       "<tr>\n",
       "  <th>Date:</th>            <td>Wed, 29 Mar 2023</td> <th>  AIC                </th> <td>15805.175</td>\n",
       "</tr>\n",
       "<tr>\n",
       "  <th>Time:</th>                <td>15:05:45</td>     <th>  BIC                </th> <td>15850.823</td>\n",
       "</tr>\n",
       "<tr>\n",
       "  <th>Sample:</th>             <td>01-10-1994</td>    <th>  HQIC               </th> <td>15821.170</td>\n",
       "</tr>\n",
       "<tr>\n",
       "  <th></th>                   <td>- 04-05-2013</td>   <th>                     </th>     <td> </td>    \n",
       "</tr>\n",
       "<tr>\n",
       "  <th>Covariance Type:</th>        <td>opg</td>       <th>                     </th>     <td> </td>    \n",
       "</tr>\n",
       "</table>\n",
       "<table class=\"simpletable\">\n",
       "<tr>\n",
       "     <td></td>       <th>coef</th>     <th>std err</th>      <th>z</th>      <th>P>|z|</th>  <th>[0.025</th>    <th>0.975]</th>  \n",
       "</tr>\n",
       "<tr>\n",
       "  <th>const</th>  <td>    0.0188</td> <td>    0.015</td> <td>    1.224</td> <td> 0.221</td> <td>   -0.011</td> <td>    0.049</td>\n",
       "</tr>\n",
       "<tr>\n",
       "  <th>ar.L1</th>  <td>   -0.5600</td> <td>    0.057</td> <td>   -9.777</td> <td> 0.000</td> <td>   -0.672</td> <td>   -0.448</td>\n",
       "</tr>\n",
       "<tr>\n",
       "  <th>ar.L2</th>  <td>   -0.4178</td> <td>    0.065</td> <td>   -6.381</td> <td> 0.000</td> <td>   -0.546</td> <td>   -0.289</td>\n",
       "</tr>\n",
       "<tr>\n",
       "  <th>ma.L1</th>  <td>    0.5373</td> <td>    0.057</td> <td>    9.417</td> <td> 0.000</td> <td>    0.425</td> <td>    0.649</td>\n",
       "</tr>\n",
       "<tr>\n",
       "  <th>ma.L2</th>  <td>    0.3531</td> <td>    0.066</td> <td>    5.383</td> <td> 0.000</td> <td>    0.225</td> <td>    0.482</td>\n",
       "</tr>\n",
       "<tr>\n",
       "  <th>ma.L3</th>  <td>   -0.1159</td> <td>    0.009</td> <td>  -12.679</td> <td> 0.000</td> <td>   -0.134</td> <td>   -0.098</td>\n",
       "</tr>\n",
       "<tr>\n",
       "  <th>sigma2</th> <td>    1.3604</td> <td>    0.015</td> <td>   91.315</td> <td> 0.000</td> <td>    1.331</td> <td>    1.390</td>\n",
       "</tr>\n",
       "</table>\n",
       "<table class=\"simpletable\">\n",
       "<tr>\n",
       "  <th>Ljung-Box (L1) (Q):</th>     <td>0.00</td> <th>  Jarque-Bera (JB):  </th> <td>6515.27</td>\n",
       "</tr>\n",
       "<tr>\n",
       "  <th>Prob(Q):</th>                <td>0.99</td> <th>  Prob(JB):          </th>  <td>0.00</td>  \n",
       "</tr>\n",
       "<tr>\n",
       "  <th>Heteroskedasticity (H):</th> <td>1.99</td> <th>  Skew:              </th>  <td>-0.12</td> \n",
       "</tr>\n",
       "<tr>\n",
       "  <th>Prob(H) (two-sided):</th>    <td>0.00</td> <th>  Kurtosis:          </th>  <td>8.58</td>  \n",
       "</tr>\n",
       "</table><br/><br/>Warnings:<br/>[1] Covariance matrix calculated using the outer product of gradients (complex-step)."
      ],
      "text/plain": [
       "<class 'statsmodels.iolib.summary.Summary'>\n",
       "\"\"\"\n",
       "                               SARIMAX Results                                \n",
       "==============================================================================\n",
       "Dep. Variable:                returns   No. Observations:                 5020\n",
       "Model:                 ARIMA(2, 0, 3)   Log Likelihood               -7895.587\n",
       "Date:                Wed, 29 Mar 2023   AIC                          15805.175\n",
       "Time:                        15:05:45   BIC                          15850.823\n",
       "Sample:                    01-10-1994   HQIC                         15821.170\n",
       "                         - 04-05-2013                                         \n",
       "Covariance Type:                  opg                                         \n",
       "==============================================================================\n",
       "                 coef    std err          z      P>|z|      [0.025      0.975]\n",
       "------------------------------------------------------------------------------\n",
       "const          0.0188      0.015      1.224      0.221      -0.011       0.049\n",
       "ar.L1         -0.5600      0.057     -9.777      0.000      -0.672      -0.448\n",
       "ar.L2         -0.4178      0.065     -6.381      0.000      -0.546      -0.289\n",
       "ma.L1          0.5373      0.057      9.417      0.000       0.425       0.649\n",
       "ma.L2          0.3531      0.066      5.383      0.000       0.225       0.482\n",
       "ma.L3         -0.1159      0.009    -12.679      0.000      -0.134      -0.098\n",
       "sigma2         1.3604      0.015     91.315      0.000       1.331       1.390\n",
       "===================================================================================\n",
       "Ljung-Box (L1) (Q):                   0.00   Jarque-Bera (JB):              6515.27\n",
       "Prob(Q):                              0.99   Prob(JB):                         0.00\n",
       "Heteroskedasticity (H):               1.99   Skew:                            -0.12\n",
       "Prob(H) (two-sided):                  0.00   Kurtosis:                         8.58\n",
       "===================================================================================\n",
       "\n",
       "Warnings:\n",
       "[1] Covariance matrix calculated using the outer product of gradients (complex-step).\n",
       "\"\"\""
      ]
     },
     "execution_count": 14,
     "metadata": {},
     "output_type": "execute_result"
    }
   ],
   "source": [
    "ret_arma23=ARIMA(df.returns[1:],order=(2,0,3))\n",
    "result23=ret_arma23.fit()\n",
    "result23.summary()"
   ]
  },
  {
   "cell_type": "code",
   "execution_count": 15,
   "metadata": {},
   "outputs": [
    {
     "name": "stdout",
     "output_type": "stream",
     "text": [
      "\n",
      " ARMA(3,2) vs ARMA(3,3) :  0.035\n"
     ]
    }
   ],
   "source": [
    "print(\"\\n ARMA(3,2) vs ARMA(3,3) : \",LLR_test(ret_arma32,ret_arma33))"
   ]
  },
  {
   "cell_type": "code",
   "execution_count": 16,
   "metadata": {},
   "outputs": [
    {
     "name": "stdout",
     "output_type": "stream",
     "text": [
      "\n",
      " ARMA(3,2) vs ARMA(3,3) :  0.042\n"
     ]
    }
   ],
   "source": [
    "print(\"\\n ARMA(3,2) vs ARMA(3,3) : \",LLR_test(ret_arma23,ret_arma33))"
   ]
  },
  {
   "cell_type": "code",
   "execution_count": 17,
   "metadata": {},
   "outputs": [
    {
     "data": {
      "text/html": [
       "<table class=\"simpletable\">\n",
       "<caption>SARIMAX Results</caption>\n",
       "<tr>\n",
       "  <th>Dep. Variable:</th>        <td>returns</td>     <th>  No. Observations:  </th>   <td>5020</td>   \n",
       "</tr>\n",
       "<tr>\n",
       "  <th>Model:</th>            <td>ARIMA(3, 0, 1)</td>  <th>  Log Likelihood     </th> <td>-7899.072</td>\n",
       "</tr>\n",
       "<tr>\n",
       "  <th>Date:</th>            <td>Wed, 29 Mar 2023</td> <th>  AIC                </th> <td>15810.144</td>\n",
       "</tr>\n",
       "<tr>\n",
       "  <th>Time:</th>                <td>15:26:20</td>     <th>  BIC                </th> <td>15849.271</td>\n",
       "</tr>\n",
       "<tr>\n",
       "  <th>Sample:</th>             <td>01-10-1994</td>    <th>  HQIC               </th> <td>15823.855</td>\n",
       "</tr>\n",
       "<tr>\n",
       "  <th></th>                   <td>- 04-05-2013</td>   <th>                     </th>     <td> </td>    \n",
       "</tr>\n",
       "<tr>\n",
       "  <th>Covariance Type:</th>        <td>opg</td>       <th>                     </th>     <td> </td>    \n",
       "</tr>\n",
       "</table>\n",
       "<table class=\"simpletable\">\n",
       "<tr>\n",
       "     <td></td>       <th>coef</th>     <th>std err</th>      <th>z</th>      <th>P>|z|</th>  <th>[0.025</th>    <th>0.975]</th>  \n",
       "</tr>\n",
       "<tr>\n",
       "  <th>const</th>  <td>    0.0189</td> <td>    0.015</td> <td>    1.248</td> <td> 0.212</td> <td>   -0.011</td> <td>    0.048</td>\n",
       "</tr>\n",
       "<tr>\n",
       "  <th>ar.L1</th>  <td>   -0.5074</td> <td>    0.062</td> <td>   -8.155</td> <td> 0.000</td> <td>   -0.629</td> <td>   -0.385</td>\n",
       "</tr>\n",
       "<tr>\n",
       "  <th>ar.L2</th>  <td>   -0.0638</td> <td>    0.009</td> <td>   -7.027</td> <td> 0.000</td> <td>   -0.082</td> <td>   -0.046</td>\n",
       "</tr>\n",
       "<tr>\n",
       "  <th>ar.L3</th>  <td>   -0.1102</td> <td>    0.008</td> <td>  -13.610</td> <td> 0.000</td> <td>   -0.126</td> <td>   -0.094</td>\n",
       "</tr>\n",
       "<tr>\n",
       "  <th>ma.L1</th>  <td>    0.4836</td> <td>    0.064</td> <td>    7.608</td> <td> 0.000</td> <td>    0.359</td> <td>    0.608</td>\n",
       "</tr>\n",
       "<tr>\n",
       "  <th>sigma2</th> <td>    1.3623</td> <td>    0.015</td> <td>   92.782</td> <td> 0.000</td> <td>    1.334</td> <td>    1.391</td>\n",
       "</tr>\n",
       "</table>\n",
       "<table class=\"simpletable\">\n",
       "<tr>\n",
       "  <th>Ljung-Box (L1) (Q):</th>     <td>0.01</td> <th>  Jarque-Bera (JB):  </th> <td>6490.60</td>\n",
       "</tr>\n",
       "<tr>\n",
       "  <th>Prob(Q):</th>                <td>0.94</td> <th>  Prob(JB):          </th>  <td>0.00</td>  \n",
       "</tr>\n",
       "<tr>\n",
       "  <th>Heteroskedasticity (H):</th> <td>2.00</td> <th>  Skew:              </th>  <td>-0.14</td> \n",
       "</tr>\n",
       "<tr>\n",
       "  <th>Prob(H) (two-sided):</th>    <td>0.00</td> <th>  Kurtosis:          </th>  <td>8.56</td>  \n",
       "</tr>\n",
       "</table><br/><br/>Warnings:<br/>[1] Covariance matrix calculated using the outer product of gradients (complex-step)."
      ],
      "text/plain": [
       "<class 'statsmodels.iolib.summary.Summary'>\n",
       "\"\"\"\n",
       "                               SARIMAX Results                                \n",
       "==============================================================================\n",
       "Dep. Variable:                returns   No. Observations:                 5020\n",
       "Model:                 ARIMA(3, 0, 1)   Log Likelihood               -7899.072\n",
       "Date:                Wed, 29 Mar 2023   AIC                          15810.144\n",
       "Time:                        15:26:20   BIC                          15849.271\n",
       "Sample:                    01-10-1994   HQIC                         15823.855\n",
       "                         - 04-05-2013                                         \n",
       "Covariance Type:                  opg                                         \n",
       "==============================================================================\n",
       "                 coef    std err          z      P>|z|      [0.025      0.975]\n",
       "------------------------------------------------------------------------------\n",
       "const          0.0189      0.015      1.248      0.212      -0.011       0.048\n",
       "ar.L1         -0.5074      0.062     -8.155      0.000      -0.629      -0.385\n",
       "ar.L2         -0.0638      0.009     -7.027      0.000      -0.082      -0.046\n",
       "ar.L3         -0.1102      0.008    -13.610      0.000      -0.126      -0.094\n",
       "ma.L1          0.4836      0.064      7.608      0.000       0.359       0.608\n",
       "sigma2         1.3623      0.015     92.782      0.000       1.334       1.391\n",
       "===================================================================================\n",
       "Ljung-Box (L1) (Q):                   0.01   Jarque-Bera (JB):              6490.60\n",
       "Prob(Q):                              0.94   Prob(JB):                         0.00\n",
       "Heteroskedasticity (H):               2.00   Skew:                            -0.14\n",
       "Prob(H) (two-sided):                  0.00   Kurtosis:                         8.56\n",
       "===================================================================================\n",
       "\n",
       "Warnings:\n",
       "[1] Covariance matrix calculated using the outer product of gradients (complex-step).\n",
       "\"\"\""
      ]
     },
     "execution_count": 17,
     "metadata": {},
     "output_type": "execute_result"
    }
   ],
   "source": [
    "ret_arma31=ARIMA(df.returns[1:],order=(3,0,1))\n",
    "result31=ret_arma31.fit()\n",
    "result31.summary()"
   ]
  },
  {
   "cell_type": "code",
   "execution_count": 18,
   "metadata": {},
   "outputs": [
    {
     "name": "stdout",
     "output_type": "stream",
     "text": [
      "\n",
      " ARMA(3,1) vs ARMA(3,2) :  0.01\n"
     ]
    }
   ],
   "source": [
    "print(\"\\n ARMA(3,1) vs ARMA(3,2) : \",LLR_test(ret_arma31,ret_arma32))"
   ]
  },
  {
   "cell_type": "code",
   "execution_count": 19,
   "metadata": {},
   "outputs": [
    {
     "data": {
      "text/html": [
       "<table class=\"simpletable\">\n",
       "<caption>SARIMAX Results</caption>\n",
       "<tr>\n",
       "  <th>Dep. Variable:</th>        <td>returns</td>     <th>  No. Observations:  </th>   <td>5020</td>   \n",
       "</tr>\n",
       "<tr>\n",
       "  <th>Model:</th>            <td>ARIMA(1, 0, 3)</td>  <th>  Log Likelihood     </th> <td>-7896.838</td>\n",
       "</tr>\n",
       "<tr>\n",
       "  <th>Date:</th>            <td>Wed, 29 Mar 2023</td> <th>  AIC                </th> <td>15805.676</td>\n",
       "</tr>\n",
       "<tr>\n",
       "  <th>Time:</th>                <td>15:33:12</td>     <th>  BIC                </th> <td>15844.803</td>\n",
       "</tr>\n",
       "<tr>\n",
       "  <th>Sample:</th>             <td>01-10-1994</td>    <th>  HQIC               </th> <td>15819.386</td>\n",
       "</tr>\n",
       "<tr>\n",
       "  <th></th>                   <td>- 04-05-2013</td>   <th>                     </th>     <td> </td>    \n",
       "</tr>\n",
       "<tr>\n",
       "  <th>Covariance Type:</th>        <td>opg</td>       <th>                     </th>     <td> </td>    \n",
       "</tr>\n",
       "</table>\n",
       "<table class=\"simpletable\">\n",
       "<tr>\n",
       "     <td></td>       <th>coef</th>     <th>std err</th>      <th>z</th>      <th>P>|z|</th>  <th>[0.025</th>    <th>0.975]</th>  \n",
       "</tr>\n",
       "<tr>\n",
       "  <th>const</th>  <td>    0.0189</td> <td>    0.015</td> <td>    1.265</td> <td> 0.206</td> <td>   -0.010</td> <td>    0.048</td>\n",
       "</tr>\n",
       "<tr>\n",
       "  <th>ar.L1</th>  <td>   -0.4693</td> <td>    0.060</td> <td>   -7.878</td> <td> 0.000</td> <td>   -0.586</td> <td>   -0.353</td>\n",
       "</tr>\n",
       "<tr>\n",
       "  <th>ma.L1</th>  <td>    0.4469</td> <td>    0.060</td> <td>    7.437</td> <td> 0.000</td> <td>    0.329</td> <td>    0.565</td>\n",
       "</tr>\n",
       "<tr>\n",
       "  <th>ma.L2</th>  <td>   -0.0637</td> <td>    0.009</td> <td>   -7.277</td> <td> 0.000</td> <td>   -0.081</td> <td>   -0.047</td>\n",
       "</tr>\n",
       "<tr>\n",
       "  <th>ma.L3</th>  <td>   -0.1182</td> <td>    0.008</td> <td>  -14.693</td> <td> 0.000</td> <td>   -0.134</td> <td>   -0.102</td>\n",
       "</tr>\n",
       "<tr>\n",
       "  <th>sigma2</th> <td>    1.3610</td> <td>    0.015</td> <td>   92.540</td> <td> 0.000</td> <td>    1.332</td> <td>    1.390</td>\n",
       "</tr>\n",
       "</table>\n",
       "<table class=\"simpletable\">\n",
       "<tr>\n",
       "  <th>Ljung-Box (L1) (Q):</th>     <td>0.00</td> <th>  Jarque-Bera (JB):  </th> <td>6401.49</td>\n",
       "</tr>\n",
       "<tr>\n",
       "  <th>Prob(Q):</th>                <td>0.96</td> <th>  Prob(JB):          </th>  <td>0.00</td>  \n",
       "</tr>\n",
       "<tr>\n",
       "  <th>Heteroskedasticity (H):</th> <td>2.00</td> <th>  Skew:              </th>  <td>-0.16</td> \n",
       "</tr>\n",
       "<tr>\n",
       "  <th>Prob(H) (two-sided):</th>    <td>0.00</td> <th>  Kurtosis:          </th>  <td>8.52</td>  \n",
       "</tr>\n",
       "</table><br/><br/>Warnings:<br/>[1] Covariance matrix calculated using the outer product of gradients (complex-step)."
      ],
      "text/plain": [
       "<class 'statsmodels.iolib.summary.Summary'>\n",
       "\"\"\"\n",
       "                               SARIMAX Results                                \n",
       "==============================================================================\n",
       "Dep. Variable:                returns   No. Observations:                 5020\n",
       "Model:                 ARIMA(1, 0, 3)   Log Likelihood               -7896.838\n",
       "Date:                Wed, 29 Mar 2023   AIC                          15805.676\n",
       "Time:                        15:33:12   BIC                          15844.803\n",
       "Sample:                    01-10-1994   HQIC                         15819.386\n",
       "                         - 04-05-2013                                         \n",
       "Covariance Type:                  opg                                         \n",
       "==============================================================================\n",
       "                 coef    std err          z      P>|z|      [0.025      0.975]\n",
       "------------------------------------------------------------------------------\n",
       "const          0.0189      0.015      1.265      0.206      -0.010       0.048\n",
       "ar.L1         -0.4693      0.060     -7.878      0.000      -0.586      -0.353\n",
       "ma.L1          0.4469      0.060      7.437      0.000       0.329       0.565\n",
       "ma.L2         -0.0637      0.009     -7.277      0.000      -0.081      -0.047\n",
       "ma.L3         -0.1182      0.008    -14.693      0.000      -0.134      -0.102\n",
       "sigma2         1.3610      0.015     92.540      0.000       1.332       1.390\n",
       "===================================================================================\n",
       "Ljung-Box (L1) (Q):                   0.00   Jarque-Bera (JB):              6401.49\n",
       "Prob(Q):                              0.96   Prob(JB):                         0.00\n",
       "Heteroskedasticity (H):               2.00   Skew:                            -0.16\n",
       "Prob(H) (two-sided):                  0.00   Kurtosis:                         8.52\n",
       "===================================================================================\n",
       "\n",
       "Warnings:\n",
       "[1] Covariance matrix calculated using the outer product of gradients (complex-step).\n",
       "\"\"\""
      ]
     },
     "execution_count": 19,
     "metadata": {},
     "output_type": "execute_result"
    }
   ],
   "source": [
    "ret_arma13=ARIMA(df.returns[1:],order=(1,0,3))\n",
    "result13=ret_arma13.fit()\n",
    "result13.summary()"
   ]
  },
  {
   "cell_type": "code",
   "execution_count": 20,
   "metadata": {},
   "outputs": [
    {
     "name": "stdout",
     "output_type": "stream",
     "text": [
      "\n",
      " ARMA(3,2): \tLL =  -7895.747490026057 \tAIC =  15805.494980052114\n",
      "\n",
      " ARMA(1,3): \tLL =  -7896.837909205899 \tAIC =  15805.675818411799\n"
     ]
    }
   ],
   "source": [
    "print(\"\\n ARMA(3,2): \\tLL = \", result32.llf, \"\\tAIC = \", result32.aic)\n",
    "print(\"\\n ARMA(1,3): \\tLL = \", result13.llf, \"\\tAIC = \", result13.aic)"
   ]
  },
  {
   "cell_type": "markdown",
   "metadata": {},
   "source": [
    "The better model is the one with lower AIC and higher LL, thus the ARMA(3,2) is still the best so far."
   ]
  },
  {
   "cell_type": "markdown",
   "metadata": {},
   "source": [
    "## Residuals for Returns"
   ]
  },
  {
   "cell_type": "code",
   "execution_count": 31,
   "metadata": {},
   "outputs": [],
   "source": [
    "df['res_ret_ar_3_ma_2'] = result32.resid[1:]"
   ]
  },
  {
   "cell_type": "code",
   "execution_count": 32,
   "metadata": {
    "scrolled": true
   },
   "outputs": [
    {
     "data": {
      "text/html": [
       "<div>\n",
       "<style scoped>\n",
       "    .dataframe tbody tr th:only-of-type {\n",
       "        vertical-align: middle;\n",
       "    }\n",
       "\n",
       "    .dataframe tbody tr th {\n",
       "        vertical-align: top;\n",
       "    }\n",
       "\n",
       "    .dataframe thead th {\n",
       "        text-align: right;\n",
       "    }\n",
       "</style>\n",
       "<table border=\"1\" class=\"dataframe\">\n",
       "  <thead>\n",
       "    <tr style=\"text-align: right;\">\n",
       "      <th></th>\n",
       "      <th>market_value</th>\n",
       "      <th>returns</th>\n",
       "      <th>res_ret_ar_3_ma_2</th>\n",
       "    </tr>\n",
       "    <tr>\n",
       "      <th>date</th>\n",
       "      <th></th>\n",
       "      <th></th>\n",
       "      <th></th>\n",
       "    </tr>\n",
       "  </thead>\n",
       "  <tbody>\n",
       "    <tr>\n",
       "      <th>1994-01-07</th>\n",
       "      <td>3445.98</td>\n",
       "      <td>NaN</td>\n",
       "      <td>NaN</td>\n",
       "    </tr>\n",
       "    <tr>\n",
       "      <th>1994-01-10</th>\n",
       "      <td>3440.58</td>\n",
       "      <td>-0.156704</td>\n",
       "      <td>NaN</td>\n",
       "    </tr>\n",
       "    <tr>\n",
       "      <th>1994-01-11</th>\n",
       "      <td>3413.77</td>\n",
       "      <td>-0.779229</td>\n",
       "      <td>-0.802104</td>\n",
       "    </tr>\n",
       "    <tr>\n",
       "      <th>1994-01-12</th>\n",
       "      <td>3372.02</td>\n",
       "      <td>-1.222988</td>\n",
       "      <td>-1.269908</td>\n",
       "    </tr>\n",
       "    <tr>\n",
       "      <th>1994-01-13</th>\n",
       "      <td>3360.01</td>\n",
       "      <td>-0.356166</td>\n",
       "      <td>-0.463282</td>\n",
       "    </tr>\n",
       "  </tbody>\n",
       "</table>\n",
       "</div>"
      ],
      "text/plain": [
       "            market_value   returns  res_ret_ar_3_ma_2\n",
       "date                                                 \n",
       "1994-01-07       3445.98       NaN                NaN\n",
       "1994-01-10       3440.58 -0.156704                NaN\n",
       "1994-01-11       3413.77 -0.779229          -0.802104\n",
       "1994-01-12       3372.02 -1.222988          -1.269908\n",
       "1994-01-13       3360.01 -0.356166          -0.463282"
      ]
     },
     "execution_count": 32,
     "metadata": {},
     "output_type": "execute_result"
    }
   ],
   "source": [
    "df.head()"
   ]
  },
  {
   "cell_type": "code",
   "execution_count": 34,
   "metadata": {},
   "outputs": [
    {
     "data": {
      "image/png": "[encoded data removed]",
      "text/plain": [
       "<Figure size 2000x500 with 1 Axes>"
      ]
     },
     "metadata": {},
     "output_type": "display_data"
    }
   ],
   "source": [
    "df.res_ret_ar_3_ma_2.plot(figsize = (20,5))\n",
    "plt.title(\"Residuals of Returns\", size=24)\n",
    "plt.show()"
   ]
  },
  {
   "cell_type": "code",
   "execution_count": 36,
   "metadata": {},
   "outputs": [
    {
     "data": {
      "image/png": "[encoded data removed]",
      "text/plain": [
       "<Figure size 640x480 with 1 Axes>"
      ]
     },
     "metadata": {},
     "output_type": "display_data"
    }
   ],
   "source": [
    "sgt.plot_acf(df.res_ret_ar_3_ma_2[2:], zero = False, lags = 40)\n",
    "plt.title(\"ACF Of Residuals for Returns\",size=24)\n",
    "plt.ylim(-0.1,0.1)\n",
    "plt.show()"
   ]
  },
  {
   "cell_type": "markdown",
   "metadata": {},
   "source": [
    "The fifth lag is quite significant, we should consider and ARMA(5,0,Q) or ARMA(P,0,5)"
   ]
  },
  {
   "cell_type": "markdown",
   "metadata": {},
   "source": [
    "## Reevaluating Model Selection"
   ]
  },
  {
   "cell_type": "code",
   "execution_count": 38,
   "metadata": {},
   "outputs": [
    {
     "data": {
      "text/html": [
       "<table class=\"simpletable\">\n",
       "<caption>SARIMAX Results</caption>\n",
       "<tr>\n",
       "  <th>Dep. Variable:</th>        <td>returns</td>     <th>  No. Observations:  </th>   <td>5020</td>   \n",
       "</tr>\n",
       "<tr>\n",
       "  <th>Model:</th>            <td>ARIMA(5, 0, 5)</td>  <th>  Log Likelihood     </th> <td>-7883.377</td>\n",
       "</tr>\n",
       "<tr>\n",
       "  <th>Date:</th>            <td>Wed, 29 Mar 2023</td> <th>  AIC                </th> <td>15790.753</td>\n",
       "</tr>\n",
       "<tr>\n",
       "  <th>Time:</th>                <td>16:10:29</td>     <th>  BIC                </th> <td>15869.007</td>\n",
       "</tr>\n",
       "<tr>\n",
       "  <th>Sample:</th>             <td>01-10-1994</td>    <th>  HQIC               </th> <td>15818.174</td>\n",
       "</tr>\n",
       "<tr>\n",
       "  <th></th>                   <td>- 04-05-2013</td>   <th>                     </th>     <td> </td>    \n",
       "</tr>\n",
       "<tr>\n",
       "  <th>Covariance Type:</th>        <td>opg</td>       <th>                     </th>     <td> </td>    \n",
       "</tr>\n",
       "</table>\n",
       "<table class=\"simpletable\">\n",
       "<tr>\n",
       "     <td></td>       <th>coef</th>     <th>std err</th>      <th>z</th>      <th>P>|z|</th>  <th>[0.025</th>    <th>0.975]</th>  \n",
       "</tr>\n",
       "<tr>\n",
       "  <th>const</th>  <td>    0.0197</td> <td>    0.015</td> <td>    1.348</td> <td> 0.178</td> <td>   -0.009</td> <td>    0.048</td>\n",
       "</tr>\n",
       "<tr>\n",
       "  <th>ar.L1</th>  <td>    0.0458</td> <td>    0.116</td> <td>    0.393</td> <td> 0.694</td> <td>   -0.182</td> <td>    0.274</td>\n",
       "</tr>\n",
       "<tr>\n",
       "  <th>ar.L2</th>  <td>   -0.5231</td> <td>    0.080</td> <td>   -6.529</td> <td> 0.000</td> <td>   -0.680</td> <td>   -0.366</td>\n",
       "</tr>\n",
       "<tr>\n",
       "  <th>ar.L3</th>  <td>   -0.0846</td> <td>    0.073</td> <td>   -1.160</td> <td> 0.246</td> <td>   -0.227</td> <td>    0.058</td>\n",
       "</tr>\n",
       "<tr>\n",
       "  <th>ar.L4</th>  <td>    0.2398</td> <td>    0.073</td> <td>    3.307</td> <td> 0.001</td> <td>    0.098</td> <td>    0.382</td>\n",
       "</tr>\n",
       "<tr>\n",
       "  <th>ar.L5</th>  <td>    0.0433</td> <td>    0.088</td> <td>    0.495</td> <td> 0.621</td> <td>   -0.128</td> <td>    0.215</td>\n",
       "</tr>\n",
       "<tr>\n",
       "  <th>ma.L1</th>  <td>   -0.0698</td> <td>    0.116</td> <td>   -0.600</td> <td> 0.549</td> <td>   -0.298</td> <td>    0.158</td>\n",
       "</tr>\n",
       "<tr>\n",
       "  <th>ma.L2</th>  <td>    0.4721</td> <td>    0.081</td> <td>    5.816</td> <td> 0.000</td> <td>    0.313</td> <td>    0.631</td>\n",
       "</tr>\n",
       "<tr>\n",
       "  <th>ma.L3</th>  <td>   -0.0093</td> <td>    0.072</td> <td>   -0.130</td> <td> 0.896</td> <td>   -0.149</td> <td>    0.131</td>\n",
       "</tr>\n",
       "<tr>\n",
       "  <th>ma.L4</th>  <td>   -0.2170</td> <td>    0.072</td> <td>   -3.023</td> <td> 0.003</td> <td>   -0.358</td> <td>   -0.076</td>\n",
       "</tr>\n",
       "<tr>\n",
       "  <th>ma.L5</th>  <td>   -0.1433</td> <td>    0.084</td> <td>   -1.707</td> <td> 0.088</td> <td>   -0.308</td> <td>    0.021</td>\n",
       "</tr>\n",
       "<tr>\n",
       "  <th>sigma2</th> <td>    1.3534</td> <td>    0.015</td> <td>   90.928</td> <td> 0.000</td> <td>    1.324</td> <td>    1.383</td>\n",
       "</tr>\n",
       "</table>\n",
       "<table class=\"simpletable\">\n",
       "<tr>\n",
       "  <th>Ljung-Box (L1) (Q):</th>     <td>0.00</td> <th>  Jarque-Bera (JB):  </th> <td>6442.06</td>\n",
       "</tr>\n",
       "<tr>\n",
       "  <th>Prob(Q):</th>                <td>0.98</td> <th>  Prob(JB):          </th>  <td>0.00</td>  \n",
       "</tr>\n",
       "<tr>\n",
       "  <th>Heteroskedasticity (H):</th> <td>1.99</td> <th>  Skew:              </th>  <td>-0.21</td> \n",
       "</tr>\n",
       "<tr>\n",
       "  <th>Prob(H) (two-sided):</th>    <td>0.00</td> <th>  Kurtosis:          </th>  <td>8.53</td>  \n",
       "</tr>\n",
       "</table><br/><br/>Warnings:<br/>[1] Covariance matrix calculated using the outer product of gradients (complex-step)."
      ],
      "text/plain": [
       "<class 'statsmodels.iolib.summary.Summary'>\n",
       "\"\"\"\n",
       "                               SARIMAX Results                                \n",
       "==============================================================================\n",
       "Dep. Variable:                returns   No. Observations:                 5020\n",
       "Model:                 ARIMA(5, 0, 5)   Log Likelihood               -7883.377\n",
       "Date:                Wed, 29 Mar 2023   AIC                          15790.753\n",
       "Time:                        16:10:29   BIC                          15869.007\n",
       "Sample:                    01-10-1994   HQIC                         15818.174\n",
       "                         - 04-05-2013                                         \n",
       "Covariance Type:                  opg                                         \n",
       "==============================================================================\n",
       "                 coef    std err          z      P>|z|      [0.025      0.975]\n",
       "------------------------------------------------------------------------------\n",
       "const          0.0197      0.015      1.348      0.178      -0.009       0.048\n",
       "ar.L1          0.0458      0.116      0.393      0.694      -0.182       0.274\n",
       "ar.L2         -0.5231      0.080     -6.529      0.000      -0.680      -0.366\n",
       "ar.L3         -0.0846      0.073     -1.160      0.246      -0.227       0.058\n",
       "ar.L4          0.2398      0.073      3.307      0.001       0.098       0.382\n",
       "ar.L5          0.0433      0.088      0.495      0.621      -0.128       0.215\n",
       "ma.L1         -0.0698      0.116     -0.600      0.549      -0.298       0.158\n",
       "ma.L2          0.4721      0.081      5.816      0.000       0.313       0.631\n",
       "ma.L3         -0.0093      0.072     -0.130      0.896      -0.149       0.131\n",
       "ma.L4         -0.2170      0.072     -3.023      0.003      -0.358      -0.076\n",
       "ma.L5         -0.1433      0.084     -1.707      0.088      -0.308       0.021\n",
       "sigma2         1.3534      0.015     90.928      0.000       1.324       1.383\n",
       "===================================================================================\n",
       "Ljung-Box (L1) (Q):                   0.00   Jarque-Bera (JB):              6442.06\n",
       "Prob(Q):                              0.98   Prob(JB):                         0.00\n",
       "Heteroskedasticity (H):               1.99   Skew:                            -0.21\n",
       "Prob(H) (two-sided):                  0.00   Kurtosis:                         8.53\n",
       "===================================================================================\n",
       "\n",
       "Warnings:\n",
       "[1] Covariance matrix calculated using the outer product of gradients (complex-step).\n",
       "\"\"\""
      ]
     },
     "execution_count": 38,
     "metadata": {},
     "output_type": "execute_result"
    }
   ],
   "source": [
    "ret_arma55=ARIMA(df.returns[1:],order=(5,0,5))\n",
    "result55=ret_arma55.fit()\n",
    "result55.summary()"
   ]
  },
  {
   "cell_type": "markdown",
   "metadata": {},
   "source": [
    "bad performance, we could try the ARMA(5,1) and ARMA(1,5)"
   ]
  },
  {
   "cell_type": "code",
   "execution_count": 39,
   "metadata": {},
   "outputs": [
    {
     "data": {
      "text/html": [
       "<table class=\"simpletable\">\n",
       "<caption>SARIMAX Results</caption>\n",
       "<tr>\n",
       "  <th>Dep. Variable:</th>        <td>returns</td>     <th>  No. Observations:  </th>   <td>5020</td>   \n",
       "</tr>\n",
       "<tr>\n",
       "  <th>Model:</th>            <td>ARIMA(5, 0, 1)</td>  <th>  Log Likelihood     </th> <td>-7889.311</td>\n",
       "</tr>\n",
       "<tr>\n",
       "  <th>Date:</th>            <td>Wed, 29 Mar 2023</td> <th>  AIC                </th> <td>15794.623</td>\n",
       "</tr>\n",
       "<tr>\n",
       "  <th>Time:</th>                <td>16:12:57</td>     <th>  BIC                </th> <td>15846.792</td>\n",
       "</tr>\n",
       "<tr>\n",
       "  <th>Sample:</th>             <td>01-10-1994</td>    <th>  HQIC               </th> <td>15812.903</td>\n",
       "</tr>\n",
       "<tr>\n",
       "  <th></th>                   <td>- 04-05-2013</td>   <th>                     </th>     <td> </td>    \n",
       "</tr>\n",
       "<tr>\n",
       "  <th>Covariance Type:</th>        <td>opg</td>       <th>                     </th>     <td> </td>    \n",
       "</tr>\n",
       "</table>\n",
       "<table class=\"simpletable\">\n",
       "<tr>\n",
       "     <td></td>       <th>coef</th>     <th>std err</th>      <th>z</th>      <th>P>|z|</th>  <th>[0.025</th>    <th>0.975]</th>  \n",
       "</tr>\n",
       "<tr>\n",
       "  <th>const</th>  <td>    0.0189</td> <td>    0.015</td> <td>    1.301</td> <td> 0.193</td> <td>   -0.010</td> <td>    0.047</td>\n",
       "</tr>\n",
       "<tr>\n",
       "  <th>ar.L1</th>  <td>    0.3449</td> <td>    0.105</td> <td>    3.270</td> <td> 0.001</td> <td>    0.138</td> <td>    0.552</td>\n",
       "</tr>\n",
       "<tr>\n",
       "  <th>ar.L2</th>  <td>   -0.0458</td> <td>    0.009</td> <td>   -4.852</td> <td> 0.000</td> <td>   -0.064</td> <td>   -0.027</td>\n",
       "</tr>\n",
       "<tr>\n",
       "  <th>ar.L3</th>  <td>   -0.0651</td> <td>    0.010</td> <td>   -6.435</td> <td> 0.000</td> <td>   -0.085</td> <td>   -0.045</td>\n",
       "</tr>\n",
       "<tr>\n",
       "  <th>ar.L4</th>  <td>    0.0742</td> <td>    0.012</td> <td>    6.092</td> <td> 0.000</td> <td>    0.050</td> <td>    0.098</td>\n",
       "</tr>\n",
       "<tr>\n",
       "  <th>ar.L5</th>  <td>   -0.0813</td> <td>    0.009</td> <td>   -9.480</td> <td> 0.000</td> <td>   -0.098</td> <td>   -0.064</td>\n",
       "</tr>\n",
       "<tr>\n",
       "  <th>ma.L1</th>  <td>   -0.3682</td> <td>    0.106</td> <td>   -3.461</td> <td> 0.001</td> <td>   -0.577</td> <td>   -0.160</td>\n",
       "</tr>\n",
       "<tr>\n",
       "  <th>sigma2</th> <td>    1.3570</td> <td>    0.015</td> <td>   92.269</td> <td> 0.000</td> <td>    1.328</td> <td>    1.386</td>\n",
       "</tr>\n",
       "</table>\n",
       "<table class=\"simpletable\">\n",
       "<tr>\n",
       "  <th>Ljung-Box (L1) (Q):</th>     <td>0.01</td> <th>  Jarque-Bera (JB):  </th> <td>6468.96</td>\n",
       "</tr>\n",
       "<tr>\n",
       "  <th>Prob(Q):</th>                <td>0.94</td> <th>  Prob(JB):          </th>  <td>0.00</td>  \n",
       "</tr>\n",
       "<tr>\n",
       "  <th>Heteroskedasticity (H):</th> <td>2.00</td> <th>  Skew:              </th>  <td>-0.20</td> \n",
       "</tr>\n",
       "<tr>\n",
       "  <th>Prob(H) (two-sided):</th>    <td>0.00</td> <th>  Kurtosis:          </th>  <td>8.55</td>  \n",
       "</tr>\n",
       "</table><br/><br/>Warnings:<br/>[1] Covariance matrix calculated using the outer product of gradients (complex-step)."
      ],
      "text/plain": [
       "<class 'statsmodels.iolib.summary.Summary'>\n",
       "\"\"\"\n",
       "                               SARIMAX Results                                \n",
       "==============================================================================\n",
       "Dep. Variable:                returns   No. Observations:                 5020\n",
       "Model:                 ARIMA(5, 0, 1)   Log Likelihood               -7889.311\n",
       "Date:                Wed, 29 Mar 2023   AIC                          15794.623\n",
       "Time:                        16:12:57   BIC                          15846.792\n",
       "Sample:                    01-10-1994   HQIC                         15812.903\n",
       "                         - 04-05-2013                                         \n",
       "Covariance Type:                  opg                                         \n",
       "==============================================================================\n",
       "                 coef    std err          z      P>|z|      [0.025      0.975]\n",
       "------------------------------------------------------------------------------\n",
       "const          0.0189      0.015      1.301      0.193      -0.010       0.047\n",
       "ar.L1          0.3449      0.105      3.270      0.001       0.138       0.552\n",
       "ar.L2         -0.0458      0.009     -4.852      0.000      -0.064      -0.027\n",
       "ar.L3         -0.0651      0.010     -6.435      0.000      -0.085      -0.045\n",
       "ar.L4          0.0742      0.012      6.092      0.000       0.050       0.098\n",
       "ar.L5         -0.0813      0.009     -9.480      0.000      -0.098      -0.064\n",
       "ma.L1         -0.3682      0.106     -3.461      0.001      -0.577      -0.160\n",
       "sigma2         1.3570      0.015     92.269      0.000       1.328       1.386\n",
       "===================================================================================\n",
       "Ljung-Box (L1) (Q):                   0.01   Jarque-Bera (JB):              6468.96\n",
       "Prob(Q):                              0.94   Prob(JB):                         0.00\n",
       "Heteroskedasticity (H):               2.00   Skew:                            -0.20\n",
       "Prob(H) (two-sided):                  0.00   Kurtosis:                         8.55\n",
       "===================================================================================\n",
       "\n",
       "Warnings:\n",
       "[1] Covariance matrix calculated using the outer product of gradients (complex-step).\n",
       "\"\"\""
      ]
     },
     "execution_count": 39,
     "metadata": {},
     "output_type": "execute_result"
    }
   ],
   "source": [
    "ret_arma51=ARIMA(df.returns[1:],order=(5,0,1))\n",
    "result51=ret_arma51.fit()\n",
    "result51.summary()"
   ]
  },
  {
   "cell_type": "code",
   "execution_count": 40,
   "metadata": {},
   "outputs": [
    {
     "data": {
      "text/html": [
       "<table class=\"simpletable\">\n",
       "<caption>SARIMAX Results</caption>\n",
       "<tr>\n",
       "  <th>Dep. Variable:</th>        <td>returns</td>     <th>  No. Observations:  </th>   <td>5020</td>   \n",
       "</tr>\n",
       "<tr>\n",
       "  <th>Model:</th>            <td>ARIMA(1, 0, 5)</td>  <th>  Log Likelihood     </th> <td>-7890.974</td>\n",
       "</tr>\n",
       "<tr>\n",
       "  <th>Date:</th>            <td>Wed, 29 Mar 2023</td> <th>  AIC                </th> <td>15797.949</td>\n",
       "</tr>\n",
       "<tr>\n",
       "  <th>Time:</th>                <td>16:13:13</td>     <th>  BIC                </th> <td>15850.118</td>\n",
       "</tr>\n",
       "<tr>\n",
       "  <th>Sample:</th>             <td>01-10-1994</td>    <th>  HQIC               </th> <td>15816.230</td>\n",
       "</tr>\n",
       "<tr>\n",
       "  <th></th>                   <td>- 04-05-2013</td>   <th>                     </th>     <td> </td>    \n",
       "</tr>\n",
       "<tr>\n",
       "  <th>Covariance Type:</th>        <td>opg</td>       <th>                     </th>     <td> </td>    \n",
       "</tr>\n",
       "</table>\n",
       "<table class=\"simpletable\">\n",
       "<tr>\n",
       "     <td></td>       <th>coef</th>     <th>std err</th>      <th>z</th>      <th>P>|z|</th>  <th>[0.025</th>    <th>0.975]</th>  \n",
       "</tr>\n",
       "<tr>\n",
       "  <th>const</th>  <td>    0.0189</td> <td>    0.015</td> <td>    1.297</td> <td> 0.194</td> <td>   -0.010</td> <td>    0.047</td>\n",
       "</tr>\n",
       "<tr>\n",
       "  <th>ar.L1</th>  <td>    0.3218</td> <td>    0.133</td> <td>    2.415</td> <td> 0.016</td> <td>    0.061</td> <td>    0.583</td>\n",
       "</tr>\n",
       "<tr>\n",
       "  <th>ma.L1</th>  <td>   -0.3467</td> <td>    0.134</td> <td>   -2.593</td> <td> 0.010</td> <td>   -0.609</td> <td>   -0.085</td>\n",
       "</tr>\n",
       "<tr>\n",
       "  <th>ma.L2</th>  <td>   -0.0406</td> <td>    0.010</td> <td>   -4.157</td> <td> 0.000</td> <td>   -0.060</td> <td>   -0.021</td>\n",
       "</tr>\n",
       "<tr>\n",
       "  <th>ma.L3</th>  <td>   -0.0682</td> <td>    0.011</td> <td>   -6.099</td> <td> 0.000</td> <td>   -0.090</td> <td>   -0.046</td>\n",
       "</tr>\n",
       "<tr>\n",
       "  <th>ma.L4</th>  <td>    0.0736</td> <td>    0.015</td> <td>    5.012</td> <td> 0.000</td> <td>    0.045</td> <td>    0.102</td>\n",
       "</tr>\n",
       "<tr>\n",
       "  <th>ma.L5</th>  <td>   -0.0682</td> <td>    0.009</td> <td>   -7.411</td> <td> 0.000</td> <td>   -0.086</td> <td>   -0.050</td>\n",
       "</tr>\n",
       "<tr>\n",
       "  <th>sigma2</th> <td>    1.3579</td> <td>    0.015</td> <td>   91.599</td> <td> 0.000</td> <td>    1.329</td> <td>    1.387</td>\n",
       "</tr>\n",
       "</table>\n",
       "<table class=\"simpletable\">\n",
       "<tr>\n",
       "  <th>Ljung-Box (L1) (Q):</th>     <td>0.00</td> <th>  Jarque-Bera (JB):  </th> <td>6465.72</td>\n",
       "</tr>\n",
       "<tr>\n",
       "  <th>Prob(Q):</th>                <td>0.95</td> <th>  Prob(JB):          </th>  <td>0.00</td>  \n",
       "</tr>\n",
       "<tr>\n",
       "  <th>Heteroskedasticity (H):</th> <td>2.00</td> <th>  Skew:              </th>  <td>-0.20</td> \n",
       "</tr>\n",
       "<tr>\n",
       "  <th>Prob(H) (two-sided):</th>    <td>0.00</td> <th>  Kurtosis:          </th>  <td>8.55</td>  \n",
       "</tr>\n",
       "</table><br/><br/>Warnings:<br/>[1] Covariance matrix calculated using the outer product of gradients (complex-step)."
      ],
      "text/plain": [
       "<class 'statsmodels.iolib.summary.Summary'>\n",
       "\"\"\"\n",
       "                               SARIMAX Results                                \n",
       "==============================================================================\n",
       "Dep. Variable:                returns   No. Observations:                 5020\n",
       "Model:                 ARIMA(1, 0, 5)   Log Likelihood               -7890.974\n",
       "Date:                Wed, 29 Mar 2023   AIC                          15797.949\n",
       "Time:                        16:13:13   BIC                          15850.118\n",
       "Sample:                    01-10-1994   HQIC                         15816.230\n",
       "                         - 04-05-2013                                         \n",
       "Covariance Type:                  opg                                         \n",
       "==============================================================================\n",
       "                 coef    std err          z      P>|z|      [0.025      0.975]\n",
       "------------------------------------------------------------------------------\n",
       "const          0.0189      0.015      1.297      0.194      -0.010       0.047\n",
       "ar.L1          0.3218      0.133      2.415      0.016       0.061       0.583\n",
       "ma.L1         -0.3467      0.134     -2.593      0.010      -0.609      -0.085\n",
       "ma.L2         -0.0406      0.010     -4.157      0.000      -0.060      -0.021\n",
       "ma.L3         -0.0682      0.011     -6.099      0.000      -0.090      -0.046\n",
       "ma.L4          0.0736      0.015      5.012      0.000       0.045       0.102\n",
       "ma.L5         -0.0682      0.009     -7.411      0.000      -0.086      -0.050\n",
       "sigma2         1.3579      0.015     91.599      0.000       1.329       1.387\n",
       "===================================================================================\n",
       "Ljung-Box (L1) (Q):                   0.00   Jarque-Bera (JB):              6465.72\n",
       "Prob(Q):                              0.95   Prob(JB):                         0.00\n",
       "Heteroskedasticity (H):               2.00   Skew:                            -0.20\n",
       "Prob(H) (two-sided):                  0.00   Kurtosis:                         8.55\n",
       "===================================================================================\n",
       "\n",
       "Warnings:\n",
       "[1] Covariance matrix calculated using the outer product of gradients (complex-step).\n",
       "\"\"\""
      ]
     },
     "execution_count": 40,
     "metadata": {},
     "output_type": "execute_result"
    }
   ],
   "source": [
    "ret_arma15=ARIMA(df.returns[1:],order=(1,0,5))\n",
    "result15=ret_arma15.fit()\n",
    "result15.summary()"
   ]
  },
  {
   "cell_type": "code",
   "execution_count": 41,
   "metadata": {
    "scrolled": true
   },
   "outputs": [
    {
     "name": "stdout",
     "output_type": "stream",
     "text": [
      "\n",
      " ARMA(1,5): \tLL =  -7890.9744345378485 \tAIC =  15797.948869075697\n",
      "\n",
      " ARMA(5,1): \tLL =  -7889.311305453595 \tAIC =  15794.62261090719\n"
     ]
    }
   ],
   "source": [
    "print(\"\\n ARMA(1,5): \\tLL = \", result15.llf, \"\\tAIC = \", result15.aic)\n",
    "print(\"\\n ARMA(5,1): \\tLL = \", result51.llf, \"\\tAIC = \", result51.aic)"
   ]
  },
  {
   "cell_type": "code",
   "execution_count": 42,
   "metadata": {},
   "outputs": [
    {
     "name": "stdout",
     "output_type": "stream",
     "text": [
      "\n",
      " ARMA(3,3): \tLL =  -7895.747490026057 \tAIC =  15805.494980052114\n",
      "\n",
      " ARMA(5,1): \tLL =  -7889.311305453595 \tAIC =  15794.62261090719\n"
     ]
    }
   ],
   "source": [
    "print(\"\\n ARMA(3,3): \\tLL = \", result32.llf, \"\\tAIC = \", result32.aic)\n",
    "print(\"\\n ARMA(5,1): \\tLL = \", result51.llf, \"\\tAIC = \", result51.aic)"
   ]
  },
  {
   "cell_type": "markdown",
   "metadata": {},
   "source": [
    "ARMA(5,1) is the best model so far."
   ]
  },
  {
   "cell_type": "markdown",
   "metadata": {},
   "source": [
    "ARMA(5,1) proves to be better.we can now compare it with ARMA(3,2)"
   ]
  },
  {
   "cell_type": "markdown",
   "metadata": {},
   "source": [
    "## Residuals for the New Model"
   ]
  },
  {
   "cell_type": "code",
   "execution_count": 44,
   "metadata": {},
   "outputs": [],
   "source": [
    "df['res_ret_ar_5_ma_1'] = result51.resid"
   ]
  },
  {
   "cell_type": "code",
   "execution_count": 54,
   "metadata": {},
   "outputs": [
    {
     "data": {
      "image/png": "[encoded data removed]",
      "text/plain": [
       "<Figure size 640x480 with 1 Axes>"
      ]
     },
     "metadata": {},
     "output_type": "display_data"
    }
   ],
   "source": [
    "sgt.plot_acf(df.res_ret_ar_5_ma_1[1:],auto_ylims=True, zero = False, lags = 40)\n",
    "plt.title(\"ACF of Residuals for Returns\",size=20)\n",
    "plt.show()"
   ]
  },
  {
   "cell_type": "markdown",
   "metadata": {},
   "source": [
    "## ARMA Models for Prices"
   ]
  },
  {
   "cell_type": "code",
   "execution_count": 52,
   "metadata": {},
   "outputs": [
    {
     "data": {
      "image/png": "[encoded data removed]",
      "text/plain": [
       "<Figure size 640x480 with 1 Axes>"
      ]
     },
     "metadata": {},
     "output_type": "display_data"
    }
   ],
   "source": [
    "sgt.plot_acf(df.market_value,unbiased=True ,zero = False, lags = 40)\n",
    "plt.title(\"Autocorrelation Function for Prices\",size=16)\n",
    "plt.show()"
   ]
  },
  {
   "cell_type": "code",
   "execution_count": 56,
   "metadata": {},
   "outputs": [
    {
     "data": {
      "image/png": "[encoded data removed]",
      "text/plain": [
       "<Figure size 640x480 with 1 Axes>"
      ]
     },
     "metadata": {},
     "output_type": "display_data"
    }
   ],
   "source": [
    "sgt.plot_pacf(df.market_value, lags = 40, alpha = 0.05, zero = False , method = ('ols'))\n",
    "plt.title(\"Partial Autocorrelation Function for Prices\",size=16)\n",
    "plt.show()"
   ]
  },
  {
   "cell_type": "code",
   "execution_count": 58,
   "metadata": {},
   "outputs": [
    {
     "data": {
      "text/html": [
       "<table class=\"simpletable\">\n",
       "<caption>SARIMAX Results</caption>\n",
       "<tr>\n",
       "  <th>Dep. Variable:</th>     <td>market_value</td>   <th>  No. Observations:  </th>    <td>5021</td>   \n",
       "</tr>\n",
       "<tr>\n",
       "  <th>Model:</th>            <td>ARIMA(1, 0, 1)</td>  <th>  Log Likelihood     </th> <td>-27621.875</td>\n",
       "</tr>\n",
       "<tr>\n",
       "  <th>Date:</th>            <td>Wed, 29 Mar 2023</td> <th>  AIC                </th>  <td>55251.749</td>\n",
       "</tr>\n",
       "<tr>\n",
       "  <th>Time:</th>                <td>16:29:30</td>     <th>  BIC                </th>  <td>55277.835</td>\n",
       "</tr>\n",
       "<tr>\n",
       "  <th>Sample:</th>             <td>01-07-1994</td>    <th>  HQIC               </th>  <td>55260.890</td>\n",
       "</tr>\n",
       "<tr>\n",
       "  <th></th>                   <td>- 04-05-2013</td>   <th>                     </th>      <td> </td>    \n",
       "</tr>\n",
       "<tr>\n",
       "  <th>Covariance Type:</th>        <td>opg</td>       <th>                     </th>      <td> </td>    \n",
       "</tr>\n",
       "</table>\n",
       "<table class=\"simpletable\">\n",
       "<tr>\n",
       "     <td></td>       <th>coef</th>     <th>std err</th>      <th>z</th>      <th>P>|z|</th>  <th>[0.025</th>    <th>0.975]</th>  \n",
       "</tr>\n",
       "<tr>\n",
       "  <th>const</th>  <td> 5089.6409</td> <td>  366.501</td> <td>   13.887</td> <td> 0.000</td> <td> 4371.312</td> <td> 5807.970</td>\n",
       "</tr>\n",
       "<tr>\n",
       "  <th>ar.L1</th>  <td>    0.9982</td> <td>    0.001</td> <td> 1189.159</td> <td> 0.000</td> <td>    0.997</td> <td>    1.000</td>\n",
       "</tr>\n",
       "<tr>\n",
       "  <th>ma.L1</th>  <td>   -0.0186</td> <td>    0.010</td> <td>   -1.894</td> <td> 0.058</td> <td>   -0.038</td> <td>    0.001</td>\n",
       "</tr>\n",
       "<tr>\n",
       "  <th>sigma2</th> <td> 3510.8350</td> <td>   41.068</td> <td>   85.489</td> <td> 0.000</td> <td> 3430.344</td> <td> 3591.326</td>\n",
       "</tr>\n",
       "</table>\n",
       "<table class=\"simpletable\">\n",
       "<tr>\n",
       "  <th>Ljung-Box (L1) (Q):</th>     <td>0.00</td> <th>  Jarque-Bera (JB):  </th> <td>3280.53</td>\n",
       "</tr>\n",
       "<tr>\n",
       "  <th>Prob(Q):</th>                <td>0.97</td> <th>  Prob(JB):          </th>  <td>0.00</td>  \n",
       "</tr>\n",
       "<tr>\n",
       "  <th>Heteroskedasticity (H):</th> <td>1.89</td> <th>  Skew:              </th>  <td>-0.19</td> \n",
       "</tr>\n",
       "<tr>\n",
       "  <th>Prob(H) (two-sided):</th>    <td>0.00</td> <th>  Kurtosis:          </th>  <td>6.94</td>  \n",
       "</tr>\n",
       "</table><br/><br/>Warnings:<br/>[1] Covariance matrix calculated using the outer product of gradients (complex-step)."
      ],
      "text/plain": [
       "<class 'statsmodels.iolib.summary.Summary'>\n",
       "\"\"\"\n",
       "                               SARIMAX Results                                \n",
       "==============================================================================\n",
       "Dep. Variable:           market_value   No. Observations:                 5021\n",
       "Model:                 ARIMA(1, 0, 1)   Log Likelihood              -27621.875\n",
       "Date:                Wed, 29 Mar 2023   AIC                          55251.749\n",
       "Time:                        16:29:30   BIC                          55277.835\n",
       "Sample:                    01-07-1994   HQIC                         55260.890\n",
       "                         - 04-05-2013                                         \n",
       "Covariance Type:                  opg                                         \n",
       "==============================================================================\n",
       "                 coef    std err          z      P>|z|      [0.025      0.975]\n",
       "------------------------------------------------------------------------------\n",
       "const       5089.6409    366.501     13.887      0.000    4371.312    5807.970\n",
       "ar.L1          0.9982      0.001   1189.159      0.000       0.997       1.000\n",
       "ma.L1         -0.0186      0.010     -1.894      0.058      -0.038       0.001\n",
       "sigma2      3510.8350     41.068     85.489      0.000    3430.344    3591.326\n",
       "===================================================================================\n",
       "Ljung-Box (L1) (Q):                   0.00   Jarque-Bera (JB):              3280.53\n",
       "Prob(Q):                              0.97   Prob(JB):                         0.00\n",
       "Heteroskedasticity (H):               1.89   Skew:                            -0.19\n",
       "Prob(H) (two-sided):                  0.00   Kurtosis:                         6.94\n",
       "===================================================================================\n",
       "\n",
       "Warnings:\n",
       "[1] Covariance matrix calculated using the outer product of gradients (complex-step).\n",
       "\"\"\""
      ]
     },
     "execution_count": 58,
     "metadata": {},
     "output_type": "execute_result"
    }
   ],
   "source": [
    "model_ar_1_ma_1 = ARIMA(df.market_value, order=(1,0,1))\n",
    "results_ar_1_ma_1 = model_ar_1_ma_1.fit()\n",
    "results_ar_1_ma_1.summary()"
   ]
  },
  {
   "cell_type": "code",
   "execution_count": 59,
   "metadata": {},
   "outputs": [],
   "source": [
    "df['res_ar_1_ma_1'] = results_ar_1_ma_1.resid"
   ]
  },
  {
   "cell_type": "markdown",
   "metadata": {},
   "source": [
    "We should plot the ACF of residuals before choosing an overparametrized model :"
   ]
  },
  {
   "cell_type": "code",
   "execution_count": 62,
   "metadata": {},
   "outputs": [
    {
     "data": {
      "image/png": "[encoded data removed]",
      "text/plain": [
       "<Figure size 640x480 with 1 Axes>"
      ]
     },
     "metadata": {},
     "output_type": "display_data"
    }
   ],
   "source": [
    "sgt.plot_acf(df.res_ar_1_ma_1, auto_ylims=True,zero = False, lags = 40)\n",
    "plt.title(\"ACF Of Residuals of Prices\",size=20)\n",
    "plt.show()"
   ]
  },
  {
   "cell_type": "code",
   "execution_count": 64,
   "metadata": {},
   "outputs": [
    {
     "data": {
      "text/html": [
       "<table class=\"simpletable\">\n",
       "<caption>SARIMAX Results</caption>\n",
       "<tr>\n",
       "  <th>Dep. Variable:</th>     <td>market_value</td>   <th>  No. Observations:  </th>    <td>5021</td>   \n",
       "</tr>\n",
       "<tr>\n",
       "  <th>Model:</th>            <td>ARIMA(6, 0, 6)</td>  <th>  Log Likelihood     </th> <td>-27591.277</td>\n",
       "</tr>\n",
       "<tr>\n",
       "  <th>Date:</th>            <td>Wed, 29 Mar 2023</td> <th>  AIC                </th>  <td>55210.553</td>\n",
       "</tr>\n",
       "<tr>\n",
       "  <th>Time:</th>                <td>16:35:17</td>     <th>  BIC                </th>  <td>55301.853</td>\n",
       "</tr>\n",
       "<tr>\n",
       "  <th>Sample:</th>             <td>01-07-1994</td>    <th>  HQIC               </th>  <td>55242.546</td>\n",
       "</tr>\n",
       "<tr>\n",
       "  <th></th>                   <td>- 04-05-2013</td>   <th>                     </th>      <td> </td>    \n",
       "</tr>\n",
       "<tr>\n",
       "  <th>Covariance Type:</th>        <td>opg</td>       <th>                     </th>      <td> </td>    \n",
       "</tr>\n",
       "</table>\n",
       "<table class=\"simpletable\">\n",
       "<tr>\n",
       "     <td></td>       <th>coef</th>     <th>std err</th>      <th>z</th>      <th>P>|z|</th>  <th>[0.025</th>    <th>0.975]</th>  \n",
       "</tr>\n",
       "<tr>\n",
       "  <th>const</th>  <td> 5089.6408</td> <td>  511.820</td> <td>    9.944</td> <td> 0.000</td> <td> 4086.491</td> <td> 6092.790</td>\n",
       "</tr>\n",
       "<tr>\n",
       "  <th>ar.L1</th>  <td>    0.7381</td> <td>    0.925</td> <td>    0.798</td> <td> 0.425</td> <td>   -1.075</td> <td>    2.551</td>\n",
       "</tr>\n",
       "<tr>\n",
       "  <th>ar.L2</th>  <td>    0.2446</td> <td>    1.553</td> <td>    0.158</td> <td> 0.875</td> <td>   -2.799</td> <td>    3.288</td>\n",
       "</tr>\n",
       "<tr>\n",
       "  <th>ar.L3</th>  <td>   -0.4060</td> <td>    1.221</td> <td>   -0.333</td> <td> 0.739</td> <td>   -2.798</td> <td>    1.986</td>\n",
       "</tr>\n",
       "<tr>\n",
       "  <th>ar.L4</th>  <td>    0.3422</td> <td>    0.757</td> <td>    0.452</td> <td> 0.651</td> <td>   -1.142</td> <td>    1.827</td>\n",
       "</tr>\n",
       "<tr>\n",
       "  <th>ar.L5</th>  <td>   -0.1100</td> <td>    0.418</td> <td>   -0.263</td> <td> 0.792</td> <td>   -0.929</td> <td>    0.709</td>\n",
       "</tr>\n",
       "<tr>\n",
       "  <th>ar.L6</th>  <td>    0.1891</td> <td>    0.253</td> <td>    0.746</td> <td> 0.455</td> <td>   -0.307</td> <td>    0.686</td>\n",
       "</tr>\n",
       "<tr>\n",
       "  <th>ma.L1</th>  <td>    0.2407</td> <td>    0.925</td> <td>    0.260</td> <td> 0.795</td> <td>   -1.572</td> <td>    2.053</td>\n",
       "</tr>\n",
       "<tr>\n",
       "  <th>ma.L2</th>  <td>   -0.0389</td> <td>    0.667</td> <td>   -0.058</td> <td> 0.953</td> <td>   -1.345</td> <td>    1.268</td>\n",
       "</tr>\n",
       "<tr>\n",
       "  <th>ma.L3</th>  <td>    0.3344</td> <td>    0.562</td> <td>    0.595</td> <td> 0.552</td> <td>   -0.766</td> <td>    1.435</td>\n",
       "</tr>\n",
       "<tr>\n",
       "  <th>ma.L4</th>  <td>    0.0823</td> <td>    0.243</td> <td>    0.339</td> <td> 0.734</td> <td>   -0.393</td> <td>    0.558</td>\n",
       "</tr>\n",
       "<tr>\n",
       "  <th>ma.L5</th>  <td>    0.1449</td> <td>    0.300</td> <td>    0.483</td> <td> 0.629</td> <td>   -0.443</td> <td>    0.733</td>\n",
       "</tr>\n",
       "<tr>\n",
       "  <th>ma.L6</th>  <td>   -0.0865</td> <td>    0.085</td> <td>   -1.018</td> <td> 0.309</td> <td>   -0.253</td> <td>    0.080</td>\n",
       "</tr>\n",
       "<tr>\n",
       "  <th>sigma2</th> <td> 3468.7511</td> <td>   43.249</td> <td>   80.204</td> <td> 0.000</td> <td> 3383.984</td> <td> 3553.518</td>\n",
       "</tr>\n",
       "</table>\n",
       "<table class=\"simpletable\">\n",
       "<tr>\n",
       "  <th>Ljung-Box (L1) (Q):</th>     <td>0.00</td> <th>  Jarque-Bera (JB):  </th> <td>2960.91</td>\n",
       "</tr>\n",
       "<tr>\n",
       "  <th>Prob(Q):</th>                <td>0.98</td> <th>  Prob(JB):          </th>  <td>0.00</td>  \n",
       "</tr>\n",
       "<tr>\n",
       "  <th>Heteroskedasticity (H):</th> <td>1.89</td> <th>  Skew:              </th>  <td>-0.29</td> \n",
       "</tr>\n",
       "<tr>\n",
       "  <th>Prob(H) (two-sided):</th>    <td>0.00</td> <th>  Kurtosis:          </th>  <td>6.72</td>  \n",
       "</tr>\n",
       "</table><br/><br/>Warnings:<br/>[1] Covariance matrix calculated using the outer product of gradients (complex-step)."
      ],
      "text/plain": [
       "<class 'statsmodels.iolib.summary.Summary'>\n",
       "\"\"\"\n",
       "                               SARIMAX Results                                \n",
       "==============================================================================\n",
       "Dep. Variable:           market_value   No. Observations:                 5021\n",
       "Model:                 ARIMA(6, 0, 6)   Log Likelihood              -27591.277\n",
       "Date:                Wed, 29 Mar 2023   AIC                          55210.553\n",
       "Time:                        16:35:17   BIC                          55301.853\n",
       "Sample:                    01-07-1994   HQIC                         55242.546\n",
       "                         - 04-05-2013                                         \n",
       "Covariance Type:                  opg                                         \n",
       "==============================================================================\n",
       "                 coef    std err          z      P>|z|      [0.025      0.975]\n",
       "------------------------------------------------------------------------------\n",
       "const       5089.6408    511.820      9.944      0.000    4086.491    6092.790\n",
       "ar.L1          0.7381      0.925      0.798      0.425      -1.075       2.551\n",
       "ar.L2          0.2446      1.553      0.158      0.875      -2.799       3.288\n",
       "ar.L3         -0.4060      1.221     -0.333      0.739      -2.798       1.986\n",
       "ar.L4          0.3422      0.757      0.452      0.651      -1.142       1.827\n",
       "ar.L5         -0.1100      0.418     -0.263      0.792      -0.929       0.709\n",
       "ar.L6          0.1891      0.253      0.746      0.455      -0.307       0.686\n",
       "ma.L1          0.2407      0.925      0.260      0.795      -1.572       2.053\n",
       "ma.L2         -0.0389      0.667     -0.058      0.953      -1.345       1.268\n",
       "ma.L3          0.3344      0.562      0.595      0.552      -0.766       1.435\n",
       "ma.L4          0.0823      0.243      0.339      0.734      -0.393       0.558\n",
       "ma.L5          0.1449      0.300      0.483      0.629      -0.443       0.733\n",
       "ma.L6         -0.0865      0.085     -1.018      0.309      -0.253       0.080\n",
       "sigma2      3468.7511     43.249     80.204      0.000    3383.984    3553.518\n",
       "===================================================================================\n",
       "Ljung-Box (L1) (Q):                   0.00   Jarque-Bera (JB):              2960.91\n",
       "Prob(Q):                              0.98   Prob(JB):                         0.00\n",
       "Heteroskedasticity (H):               1.89   Skew:                            -0.29\n",
       "Prob(H) (two-sided):                  0.00   Kurtosis:                         6.72\n",
       "===================================================================================\n",
       "\n",
       "Warnings:\n",
       "[1] Covariance matrix calculated using the outer product of gradients (complex-step).\n",
       "\"\"\""
      ]
     },
     "execution_count": 64,
     "metadata": {},
     "output_type": "execute_result"
    }
   ],
   "source": [
    "model_ar_6_ma_6 = ARIMA(df.market_value, order=(6,0,6))\n",
    "results_ar_6_ma_6 = model_ar_6_ma_6.fit()\n",
    "results_ar_6_ma_6.summary()"
   ]
  },
  {
   "cell_type": "code",
   "execution_count": 65,
   "metadata": {},
   "outputs": [
    {
     "data": {
      "text/html": [
       "<table class=\"simpletable\">\n",
       "<caption>SARIMAX Results</caption>\n",
       "<tr>\n",
       "  <th>Dep. Variable:</th>     <td>market_value</td>   <th>  No. Observations:  </th>    <td>5021</td>   \n",
       "</tr>\n",
       "<tr>\n",
       "  <th>Model:</th>            <td>ARIMA(6, 0, 1)</td>  <th>  Log Likelihood     </th> <td>-27594.195</td>\n",
       "</tr>\n",
       "<tr>\n",
       "  <th>Date:</th>            <td>Wed, 29 Mar 2023</td> <th>  AIC                </th>  <td>55206.390</td>\n",
       "</tr>\n",
       "<tr>\n",
       "  <th>Time:</th>                <td>16:38:34</td>     <th>  BIC                </th>  <td>55265.082</td>\n",
       "</tr>\n",
       "<tr>\n",
       "  <th>Sample:</th>             <td>01-07-1994</td>    <th>  HQIC               </th>  <td>55226.956</td>\n",
       "</tr>\n",
       "<tr>\n",
       "  <th></th>                   <td>- 04-05-2013</td>   <th>                     </th>      <td> </td>    \n",
       "</tr>\n",
       "<tr>\n",
       "  <th>Covariance Type:</th>        <td>opg</td>       <th>                     </th>      <td> </td>    \n",
       "</tr>\n",
       "</table>\n",
       "<table class=\"simpletable\">\n",
       "<tr>\n",
       "     <td></td>       <th>coef</th>     <th>std err</th>      <th>z</th>      <th>P>|z|</th>  <th>[0.025</th>    <th>0.975]</th>  \n",
       "</tr>\n",
       "<tr>\n",
       "  <th>const</th>  <td> 5089.6310</td> <td>  525.466</td> <td>    9.686</td> <td> 0.000</td> <td> 4059.736</td> <td> 6119.526</td>\n",
       "</tr>\n",
       "<tr>\n",
       "  <th>ar.L1</th>  <td>    1.3885</td> <td>    0.158</td> <td>    8.794</td> <td> 0.000</td> <td>    1.079</td> <td>    1.698</td>\n",
       "</tr>\n",
       "<tr>\n",
       "  <th>ar.L2</th>  <td>   -0.4333</td> <td>    0.154</td> <td>   -2.813</td> <td> 0.005</td> <td>   -0.735</td> <td>   -0.131</td>\n",
       "</tr>\n",
       "<tr>\n",
       "  <th>ar.L3</th>  <td>   -0.0103</td> <td>    0.017</td> <td>   -0.619</td> <td> 0.536</td> <td>   -0.043</td> <td>    0.022</td>\n",
       "</tr>\n",
       "<tr>\n",
       "  <th>ar.L4</th>  <td>    0.1125</td> <td>    0.016</td> <td>    6.905</td> <td> 0.000</td> <td>    0.081</td> <td>    0.144</td>\n",
       "</tr>\n",
       "<tr>\n",
       "  <th>ar.L5</th>  <td>   -0.1154</td> <td>    0.020</td> <td>   -5.696</td> <td> 0.000</td> <td>   -0.155</td> <td>   -0.076</td>\n",
       "</tr>\n",
       "<tr>\n",
       "  <th>ar.L6</th>  <td>    0.0573</td> <td>    0.009</td> <td>    6.193</td> <td> 0.000</td> <td>    0.039</td> <td>    0.075</td>\n",
       "</tr>\n",
       "<tr>\n",
       "  <th>ma.L1</th>  <td>   -0.4090</td> <td>    0.158</td> <td>   -2.583</td> <td> 0.010</td> <td>   -0.719</td> <td>   -0.099</td>\n",
       "</tr>\n",
       "<tr>\n",
       "  <th>sigma2</th> <td> 3471.4118</td> <td>   42.110</td> <td>   82.437</td> <td> 0.000</td> <td> 3388.878</td> <td> 3553.946</td>\n",
       "</tr>\n",
       "</table>\n",
       "<table class=\"simpletable\">\n",
       "<tr>\n",
       "  <th>Ljung-Box (L1) (Q):</th>     <td>0.01</td> <th>  Jarque-Bera (JB):  </th> <td>3031.82</td>\n",
       "</tr>\n",
       "<tr>\n",
       "  <th>Prob(Q):</th>                <td>0.93</td> <th>  Prob(JB):          </th>  <td>0.00</td>  \n",
       "</tr>\n",
       "<tr>\n",
       "  <th>Heteroskedasticity (H):</th> <td>1.89</td> <th>  Skew:              </th>  <td>-0.31</td> \n",
       "</tr>\n",
       "<tr>\n",
       "  <th>Prob(H) (two-sided):</th>    <td>0.00</td> <th>  Kurtosis:          </th>  <td>6.76</td>  \n",
       "</tr>\n",
       "</table><br/><br/>Warnings:<br/>[1] Covariance matrix calculated using the outer product of gradients (complex-step)."
      ],
      "text/plain": [
       "<class 'statsmodels.iolib.summary.Summary'>\n",
       "\"\"\"\n",
       "                               SARIMAX Results                                \n",
       "==============================================================================\n",
       "Dep. Variable:           market_value   No. Observations:                 5021\n",
       "Model:                 ARIMA(6, 0, 1)   Log Likelihood              -27594.195\n",
       "Date:                Wed, 29 Mar 2023   AIC                          55206.390\n",
       "Time:                        16:38:34   BIC                          55265.082\n",
       "Sample:                    01-07-1994   HQIC                         55226.956\n",
       "                         - 04-05-2013                                         \n",
       "Covariance Type:                  opg                                         \n",
       "==============================================================================\n",
       "                 coef    std err          z      P>|z|      [0.025      0.975]\n",
       "------------------------------------------------------------------------------\n",
       "const       5089.6310    525.466      9.686      0.000    4059.736    6119.526\n",
       "ar.L1          1.3885      0.158      8.794      0.000       1.079       1.698\n",
       "ar.L2         -0.4333      0.154     -2.813      0.005      -0.735      -0.131\n",
       "ar.L3         -0.0103      0.017     -0.619      0.536      -0.043       0.022\n",
       "ar.L4          0.1125      0.016      6.905      0.000       0.081       0.144\n",
       "ar.L5         -0.1154      0.020     -5.696      0.000      -0.155      -0.076\n",
       "ar.L6          0.0573      0.009      6.193      0.000       0.039       0.075\n",
       "ma.L1         -0.4090      0.158     -2.583      0.010      -0.719      -0.099\n",
       "sigma2      3471.4118     42.110     82.437      0.000    3388.878    3553.946\n",
       "===================================================================================\n",
       "Ljung-Box (L1) (Q):                   0.01   Jarque-Bera (JB):              3031.82\n",
       "Prob(Q):                              0.93   Prob(JB):                         0.00\n",
       "Heteroskedasticity (H):               1.89   Skew:                            -0.31\n",
       "Prob(H) (two-sided):                  0.00   Kurtosis:                         6.76\n",
       "===================================================================================\n",
       "\n",
       "Warnings:\n",
       "[1] Covariance matrix calculated using the outer product of gradients (complex-step).\n",
       "\"\"\""
      ]
     },
     "execution_count": 65,
     "metadata": {},
     "output_type": "execute_result"
    }
   ],
   "source": [
    "model_ar_6_ma_1 = ARIMA(df.market_value, order=(6,0,1))\n",
    "results_ar_6_ma_1 = model_ar_6_ma_1.fit()\n",
    "results_ar_6_ma_1.summary()"
   ]
  },
  {
   "cell_type": "code",
   "execution_count": 66,
   "metadata": {},
   "outputs": [
    {
     "data": {
      "text/html": [
       "<table class=\"simpletable\">\n",
       "<caption>SARIMAX Results</caption>\n",
       "<tr>\n",
       "  <th>Dep. Variable:</th>     <td>market_value</td>   <th>  No. Observations:  </th>    <td>5021</td>   \n",
       "</tr>\n",
       "<tr>\n",
       "  <th>Model:</th>            <td>ARIMA(5, 0, 6)</td>  <th>  Log Likelihood     </th> <td>-27589.832</td>\n",
       "</tr>\n",
       "<tr>\n",
       "  <th>Date:</th>            <td>Wed, 29 Mar 2023</td> <th>  AIC                </th>  <td>55205.663</td>\n",
       "</tr>\n",
       "<tr>\n",
       "  <th>Time:</th>                <td>16:40:12</td>     <th>  BIC                </th>  <td>55290.441</td>\n",
       "</tr>\n",
       "<tr>\n",
       "  <th>Sample:</th>             <td>01-07-1994</td>    <th>  HQIC               </th>  <td>55235.370</td>\n",
       "</tr>\n",
       "<tr>\n",
       "  <th></th>                   <td>- 04-05-2013</td>   <th>                     </th>      <td> </td>    \n",
       "</tr>\n",
       "<tr>\n",
       "  <th>Covariance Type:</th>        <td>opg</td>       <th>                     </th>      <td> </td>    \n",
       "</tr>\n",
       "</table>\n",
       "<table class=\"simpletable\">\n",
       "<tr>\n",
       "     <td></td>       <th>coef</th>     <th>std err</th>      <th>z</th>      <th>P>|z|</th>  <th>[0.025</th>    <th>0.975]</th>  \n",
       "</tr>\n",
       "<tr>\n",
       "  <th>const</th>  <td> 5089.6407</td> <td> 1761.424</td> <td>    2.890</td> <td> 0.004</td> <td> 1637.313</td> <td> 8541.969</td>\n",
       "</tr>\n",
       "<tr>\n",
       "  <th>ar.L1</th>  <td>    0.6023</td> <td>    0.706</td> <td>    0.853</td> <td> 0.394</td> <td>   -0.782</td> <td>    1.986</td>\n",
       "</tr>\n",
       "<tr>\n",
       "  <th>ar.L2</th>  <td>   -0.2407</td> <td>    0.798</td> <td>   -0.301</td> <td> 0.763</td> <td>   -1.806</td> <td>    1.324</td>\n",
       "</tr>\n",
       "<tr>\n",
       "  <th>ar.L3</th>  <td>    0.1625</td> <td>    0.687</td> <td>    0.236</td> <td> 0.813</td> <td>   -1.185</td> <td>    1.510</td>\n",
       "</tr>\n",
       "<tr>\n",
       "  <th>ar.L4</th>  <td>    0.5714</td> <td>    0.564</td> <td>    1.013</td> <td> 0.311</td> <td>   -0.534</td> <td>    1.677</td>\n",
       "</tr>\n",
       "<tr>\n",
       "  <th>ar.L5</th>  <td>   -0.0962</td> <td>    0.108</td> <td>   -0.888</td> <td> 0.374</td> <td>   -0.309</td> <td>    0.116</td>\n",
       "</tr>\n",
       "<tr>\n",
       "  <th>ma.L1</th>  <td>    0.3753</td> <td>    0.705</td> <td>    0.532</td> <td> 0.595</td> <td>   -1.007</td> <td>    1.758</td>\n",
       "</tr>\n",
       "<tr>\n",
       "  <th>ma.L2</th>  <td>    0.5801</td> <td>    0.158</td> <td>    3.662</td> <td> 0.000</td> <td>    0.270</td> <td>    0.891</td>\n",
       "</tr>\n",
       "<tr>\n",
       "  <th>ma.L3</th>  <td>    0.3653</td> <td>    0.561</td> <td>    0.651</td> <td> 0.515</td> <td>   -0.735</td> <td>    1.465</td>\n",
       "</tr>\n",
       "<tr>\n",
       "  <th>ma.L4</th>  <td>   -0.1411</td> <td>    0.102</td> <td>   -1.384</td> <td> 0.166</td> <td>   -0.341</td> <td>    0.059</td>\n",
       "</tr>\n",
       "<tr>\n",
       "  <th>ma.L5</th>  <td>   -0.0858</td> <td>    0.013</td> <td>   -6.444</td> <td> 0.000</td> <td>   -0.112</td> <td>   -0.060</td>\n",
       "</tr>\n",
       "<tr>\n",
       "  <th>ma.L6</th>  <td>   -0.0518</td> <td>    0.067</td> <td>   -0.769</td> <td> 0.442</td> <td>   -0.184</td> <td>    0.080</td>\n",
       "</tr>\n",
       "<tr>\n",
       "  <th>sigma2</th> <td> 3466.1116</td> <td>   42.250</td> <td>   82.039</td> <td> 0.000</td> <td> 3383.304</td> <td> 3548.919</td>\n",
       "</tr>\n",
       "</table>\n",
       "<table class=\"simpletable\">\n",
       "<tr>\n",
       "  <th>Ljung-Box (L1) (Q):</th>     <td>0.01</td> <th>  Jarque-Bera (JB):  </th> <td>3036.19</td>\n",
       "</tr>\n",
       "<tr>\n",
       "  <th>Prob(Q):</th>                <td>0.94</td> <th>  Prob(JB):          </th>  <td>0.00</td>  \n",
       "</tr>\n",
       "<tr>\n",
       "  <th>Heteroskedasticity (H):</th> <td>1.89</td> <th>  Skew:              </th>  <td>-0.31</td> \n",
       "</tr>\n",
       "<tr>\n",
       "  <th>Prob(H) (two-sided):</th>    <td>0.00</td> <th>  Kurtosis:          </th>  <td>6.76</td>  \n",
       "</tr>\n",
       "</table><br/><br/>Warnings:<br/>[1] Covariance matrix calculated using the outer product of gradients (complex-step)."
      ],
      "text/plain": [
       "<class 'statsmodels.iolib.summary.Summary'>\n",
       "\"\"\"\n",
       "                               SARIMAX Results                                \n",
       "==============================================================================\n",
       "Dep. Variable:           market_value   No. Observations:                 5021\n",
       "Model:                 ARIMA(5, 0, 6)   Log Likelihood              -27589.832\n",
       "Date:                Wed, 29 Mar 2023   AIC                          55205.663\n",
       "Time:                        16:40:12   BIC                          55290.441\n",
       "Sample:                    01-07-1994   HQIC                         55235.370\n",
       "                         - 04-05-2013                                         \n",
       "Covariance Type:                  opg                                         \n",
       "==============================================================================\n",
       "                 coef    std err          z      P>|z|      [0.025      0.975]\n",
       "------------------------------------------------------------------------------\n",
       "const       5089.6407   1761.424      2.890      0.004    1637.313    8541.969\n",
       "ar.L1          0.6023      0.706      0.853      0.394      -0.782       1.986\n",
       "ar.L2         -0.2407      0.798     -0.301      0.763      -1.806       1.324\n",
       "ar.L3          0.1625      0.687      0.236      0.813      -1.185       1.510\n",
       "ar.L4          0.5714      0.564      1.013      0.311      -0.534       1.677\n",
       "ar.L5         -0.0962      0.108     -0.888      0.374      -0.309       0.116\n",
       "ma.L1          0.3753      0.705      0.532      0.595      -1.007       1.758\n",
       "ma.L2          0.5801      0.158      3.662      0.000       0.270       0.891\n",
       "ma.L3          0.3653      0.561      0.651      0.515      -0.735       1.465\n",
       "ma.L4         -0.1411      0.102     -1.384      0.166      -0.341       0.059\n",
       "ma.L5         -0.0858      0.013     -6.444      0.000      -0.112      -0.060\n",
       "ma.L6         -0.0518      0.067     -0.769      0.442      -0.184       0.080\n",
       "sigma2      3466.1116     42.250     82.039      0.000    3383.304    3548.919\n",
       "===================================================================================\n",
       "Ljung-Box (L1) (Q):                   0.01   Jarque-Bera (JB):              3036.19\n",
       "Prob(Q):                              0.94   Prob(JB):                         0.00\n",
       "Heteroskedasticity (H):               1.89   Skew:                            -0.31\n",
       "Prob(H) (two-sided):                  0.00   Kurtosis:                         6.76\n",
       "===================================================================================\n",
       "\n",
       "Warnings:\n",
       "[1] Covariance matrix calculated using the outer product of gradients (complex-step).\n",
       "\"\"\""
      ]
     },
     "execution_count": 66,
     "metadata": {},
     "output_type": "execute_result"
    }
   ],
   "source": [
    "model_ar_5_ma_6 = ARIMA(df.market_value, order=(5,0,6))\n",
    "results_ar_5_ma_6 = model_ar_5_ma_6.fit()\n",
    "results_ar_5_ma_6.summary()"
   ]
  },
  {
   "cell_type": "code",
   "execution_count": 67,
   "metadata": {},
   "outputs": [
    {
     "name": "stdout",
     "output_type": "stream",
     "text": [
      "ARMA(5,6):  \t LL =  -27589.8317125093 \t AIC =  55205.6634250186\n",
      "ARMA(6,1):  \t LL =  -27594.1948753563 \t AIC =  55206.3897507126\n"
     ]
    }
   ],
   "source": [
    "print(\"ARMA(5,6):  \\t LL = \", results_ar_5_ma_6.llf, \"\\t AIC = \", results_ar_5_ma_6.aic)\n",
    "print(\"ARMA(6,1):  \\t LL = \", results_ar_6_ma_1.llf, \"\\t AIC = \", results_ar_6_ma_1.aic)"
   ]
  },
  {
   "cell_type": "code",
   "execution_count": 69,
   "metadata": {},
   "outputs": [
    {
     "data": {
      "image/png": "[encoded data removed]",
      "text/plain": [
       "<Figure size 640x480 with 1 Axes>"
      ]
     },
     "metadata": {},
     "output_type": "display_data"
    }
   ],
   "source": [
    "df['res_ar_5_ma_6'] = results_ar_5_ma_6.resid\n",
    "sgt.plot_acf(df.res_ar_5_ma_6,auto_ylims=True ,zero = False, lags = 40)\n",
    "plt.title(\"ACF Of Residuals of Prices\",size=20)\n",
    "plt.show()"
   ]
  },
  {
   "cell_type": "markdown",
   "metadata": {},
   "source": [
    "## ARMA for Returns vs ARMA for Prices"
   ]
  },
  {
   "cell_type": "code",
   "execution_count": 71,
   "metadata": {},
   "outputs": [
    {
     "name": "stdout",
     "output_type": "stream",
     "text": [
      "ARMA(5,6):  \t LL =  -27589.8317125093 \t AIC =  55205.6634250186\n",
      "ARMA(5,1):  \t LL =  -7889.311305453595 \t AIC =  15794.62261090719\n"
     ]
    }
   ],
   "source": [
    "print(\"ARMA(5,6):  \\t LL = \", results_ar_5_ma_6.llf, \"\\t AIC = \", results_ar_5_ma_6.aic)\n",
    "print(\"ARMA(5,1):  \\t LL = \", result51.llf, \"\\t AIC = \", result51.aic)"
   ]
  },
  {
   "cell_type": "markdown",
   "metadata": {},
   "source": [
    "This proves that we can fit ARMA model to prices, but they would perform much worse than when applied to stationnary data like returns."
   ]
  }
 ],
 "metadata": {
  "kernelspec": {
   "display_name": "Python 3 (ipykernel)",
   "language": "python",
   "name": "python3"
  },
  "language_info": {
   "codemirror_mode": {
    "name": "ipython",
    "version": 3
   },
   "file_extension": ".py",
   "mimetype": "text/x-python",
   "name": "python",
   "nbconvert_exporter": "python",
   "pygments_lexer": "ipython3",
   "version": "3.9.13"
  }
 },
 "nbformat": 4,
 "nbformat_minor": 2
}
